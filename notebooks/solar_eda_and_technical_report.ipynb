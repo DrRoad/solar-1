{
 "cells": [
  {
   "cell_type": "code",
   "execution_count": 151,
   "metadata": {},
   "outputs": [],
   "source": [
    "import pandas as pd\n",
    "import numpy as np\n",
    "from numpy import *\n",
    "import matplotlib.pyplot as plt\n",
    "import geopandas as gpd \n",
    "import os\n",
    "import seaborn as sns\n",
    "import sqlite3\n",
    "from scipy.stats import ttest_ind\n",
    "from add_functions import *\n",
    "from sklearn.model_selection import train_test_split\n",
    "from sklearn.pipeline import Pipeline\n",
    "from sklearn.preprocessing import StandardScaler\n",
    "from sklearn.impute import SimpleImputer\n",
    "from sklearn.compose import ColumnTransformer\n",
    "from sklearn.preprocessing import OneHotEncoder\n",
    "from sklearn.metrics import r2_score\n",
    "from sklearn.linear_model import LinearRegression\n",
    "from sklearn.metrics import mean_squared_error\n",
    "from sklearn.ensemble import RandomForestRegressor\n",
    "from sklearn.model_selection import GridSearchCV\n",
    "from sklearn.ensemble import GradientBoostingRegressor\n",
    "import pickle"
   ]
  },
  {
   "cell_type": "code",
   "execution_count": 11,
   "metadata": {},
   "outputs": [],
   "source": [
    "%matplotlib inline"
   ]
  },
  {
   "cell_type": "markdown",
   "metadata": {},
   "source": [
    "## Gathering the data"
   ]
  },
  {
   "cell_type": "code",
   "execution_count": 12,
   "metadata": {},
   "outputs": [
    {
     "name": "stderr",
     "output_type": "stream",
     "text": [
      "/home/iborozan/anaconda3/envs/py_demo/lib/python3.5/site-packages/IPython/core/interactiveshell.py:2785: DtypeWarning: Columns (2,5,8,12,13,14,15,16,20,23,25,26,27,28,32,50) have mixed types. Specify dtype option on import or set low_memory=False.\n",
      "  interactivity=interactivity, compiler=compiler, result=result)\n"
     ]
    }
   ],
   "source": [
    "# get US zipcodes with lat and long\n",
    "us_zip_codes = pd.read_csv('/home/iborozan/work/Data-Science/projects/renewable/dataset/postal_codes/us/us-zip-code-latitude-and-longitude.csv', sep = ';')\n",
    "zip_lat_lon = us_zip_codes[['Zip', \"Latitude\", \"Longitude\"]]\n",
    "\n",
    "data_dir_openpv = '/home/iborozan/work/Data-Science/projects/renewable/dataset/openpv/'\n",
    "\n",
    "# get the OpenPV data \n",
    "df_opv = pd.read_csv(data_dir_openpv + 'openpv_all.csv', sep=',')"
   ]
  },
  {
   "cell_type": "code",
   "execution_count": 13,
   "metadata": {
    "scrolled": true
   },
   "outputs": [
    {
     "name": "stdout",
     "output_type": "stream",
     "text": [
      "<class 'pandas.core.frame.DataFrame'>\n",
      "RangeIndex: 1020674 entries, 0 to 1020673\n",
      "Data columns (total 39 columns):\n",
      "state                          1020674 non-null object\n",
      "date_installed                 1020669 non-null object\n",
      "incentive_prog_names           797958 non-null object\n",
      "type                           1020669 non-null object\n",
      "size_kw                        1020669 non-null float64\n",
      "appraised                      224036 non-null object\n",
      "zipcode                        1020669 non-null float64\n",
      "install_type                   978093 non-null object\n",
      "installer                      702607 non-null object\n",
      "cost_per_watt                  763092 non-null float64\n",
      "cost                           763253 non-null float64\n",
      "lbnl_tts_version_year          797958 non-null float64\n",
      "lbnl_tts                       797958 non-null object\n",
      "city                           799107 non-null object\n",
      "utility_clean                  792720 non-null object\n",
      "tech_1                         580919 non-null object\n",
      "model1_clean                   580919 non-null object\n",
      "county                         998652 non-null object\n",
      "annual_PV_prod                 780969 non-null float64\n",
      "annual_insolation              780969 non-null float64\n",
      "rebate                         386698 non-null object\n",
      "sales_tax_cost                 355309 non-null float64\n",
      "tilt1                          383365 non-null float64\n",
      "tracking_type                  526058 non-null object\n",
      "azimuth1                       363281 non-null float64\n",
      "manuf2_clean                   231607 non-null object\n",
      "manuf3_clean                   209653 non-null object\n",
      "manuf1_clean                   201121 non-null object\n",
      "inv_man_clean                  49933 non-null object\n",
      "reported_annual_energy_prod    204429 non-null float64\n",
      "year                           68 non-null object\n",
      "pbi_length                     5427 non-null float64\n",
      "utility                        2117 non-null object\n",
      "bipv_3                         5255 non-null float64\n",
      "bipv_2                         5255 non-null float64\n",
      "bipv_1                         5255 non-null float64\n",
      "new_constr                     27106 non-null float64\n",
      "tracking                       1930 non-null float64\n",
      "3rdparty                       306993 non-null float64\n",
      "dtypes: float64(18), object(21)\n",
      "memory usage: 303.7+ MB\n"
     ]
    }
   ],
   "source": [
    "# getting rid of columns with no data \n",
    "\n",
    "non_null_cols = [col for col in df_opv.columns if df_opv[col].notnull().sum() != 0]\n",
    "\n",
    "df_opv = df_opv[non_null_cols]\n",
    "\n",
    "df_opv.info()"
   ]
  },
  {
   "cell_type": "markdown",
   "metadata": {},
   "source": [
    "## Start EDA "
   ]
  },
  {
   "cell_type": "code",
   "execution_count": 14,
   "metadata": {
    "scrolled": false
   },
   "outputs": [
    {
     "data": {
      "text/plain": [
       "1/1/2007    27\n",
       "1/1/2008     9\n",
       "1/1/2006     7\n",
       "1/1/2001     4\n",
       "1/1/2002     4\n",
       "1/1/2000     3\n",
       "1/1/1999     3\n",
       "1/1/2005     3\n",
       "1999         3\n",
       "1/1/2004     2\n",
       "1/3/2000     1\n",
       "1/2/2007     1\n",
       "1/1/2003     1\n",
       "Name: year, dtype: int64"
      ]
     },
     "execution_count": 14,
     "metadata": {},
     "output_type": "execute_result"
    }
   ],
   "source": [
    "df_opv['tracking'].value_counts()\n",
    "\n",
    "# make all the other tracking fields to 0 'no tracking' is empty \n",
    "\n",
    "df_opv['tracking'].fillna(0, inplace=True)\n",
    "\n",
    "# manufac entries same info drop columns 'manuf2_clean', 'manuf3_clean'\n",
    "df_opv.loc[df_opv['manuf1_clean'].notnull(), ['manuf1_clean', 'manuf2_clean', 'manuf3_clean']].head()\n",
    "\n",
    "df_opv = df_opv.drop(columns = ['manuf2_clean', 'manuf3_clean'])\n",
    "\n",
    "# look at the year many values are missing drop it as well \n",
    "df_opv['year'].value_counts()"
   ]
  },
  {
   "cell_type": "code",
   "execution_count": 15,
   "metadata": {},
   "outputs": [],
   "source": [
    "df_opv = df_opv.drop(columns = ['year'])\n",
    "\n",
    "# ditch all others since they indicate the same info \n",
    "df_opv['bipv_1'].value_counts()\n",
    "df_opv['bipv_2'].value_counts()\n",
    "df_opv['bipv_3'].value_counts()\n",
    "\n",
    "# if building has an integrated pv or not \n",
    "df_opv['bipv'] = [1 if bipv == 1.0 else 0 for bipv in df_opv['bipv_1']]\n",
    "\n",
    "df_opv = df_opv.drop(columns = ['bipv_1', 'bipv_2', 'bipv_3'])"
   ]
  },
  {
   "cell_type": "code",
   "execution_count": 16,
   "metadata": {
    "scrolled": true
   },
   "outputs": [
    {
     "name": "stdout",
     "output_type": "stream",
     "text": [
      "<class 'pandas.core.frame.DataFrame'>\n",
      "RangeIndex: 1020674 entries, 0 to 1020673\n",
      "Data columns (total 34 columns):\n",
      "state                          1020674 non-null object\n",
      "date_installed                 1020669 non-null object\n",
      "incentive_prog_names           797958 non-null object\n",
      "type                           1020669 non-null object\n",
      "size_kw                        1020669 non-null float64\n",
      "appraised                      224036 non-null object\n",
      "zipcode                        1020669 non-null float64\n",
      "install_type                   978093 non-null object\n",
      "installer                      702607 non-null object\n",
      "cost_per_watt                  763092 non-null float64\n",
      "cost                           763253 non-null float64\n",
      "lbnl_tts_version_year          797958 non-null float64\n",
      "lbnl_tts                       797958 non-null object\n",
      "city                           799107 non-null object\n",
      "utility_clean                  792720 non-null object\n",
      "tech_1                         580919 non-null object\n",
      "model1_clean                   580919 non-null object\n",
      "county                         998652 non-null object\n",
      "annual_PV_prod                 780969 non-null float64\n",
      "annual_insolation              780969 non-null float64\n",
      "rebate                         386698 non-null object\n",
      "sales_tax_cost                 355309 non-null float64\n",
      "tilt1                          383365 non-null float64\n",
      "tracking_type                  526058 non-null object\n",
      "azimuth1                       363281 non-null float64\n",
      "manuf1_clean                   201121 non-null object\n",
      "inv_man_clean                  49933 non-null object\n",
      "reported_annual_energy_prod    204429 non-null float64\n",
      "pbi_length                     5427 non-null float64\n",
      "utility                        2117 non-null object\n",
      "new_constr                     27106 non-null float64\n",
      "tracking                       1020674 non-null float64\n",
      "3rdparty                       306993 non-null float64\n",
      "bipv                           1020674 non-null int64\n",
      "dtypes: float64(15), int64(1), object(18)\n",
      "memory usage: 264.8+ MB\n",
      "<class 'pandas.core.frame.DataFrame'>\n",
      "RangeIndex: 1020674 entries, 0 to 1020673\n",
      "Data columns (total 32 columns):\n",
      "state                          1020674 non-null object\n",
      "date_installed                 1020669 non-null object\n",
      "incentive_prog_names           797958 non-null object\n",
      "type                           1020669 non-null object\n",
      "size_kw                        1020669 non-null float64\n",
      "appraised                      224036 non-null object\n",
      "zipcode                        1020669 non-null float64\n",
      "install_type                   978093 non-null object\n",
      "installer                      702607 non-null object\n",
      "cost_per_watt                  763092 non-null float64\n",
      "cost                           763253 non-null float64\n",
      "lbnl_tts_version_year          797958 non-null float64\n",
      "lbnl_tts                       797958 non-null object\n",
      "city                           799107 non-null object\n",
      "utility_clean                  792720 non-null object\n",
      "tech_1                         580919 non-null object\n",
      "model1_clean                   580919 non-null object\n",
      "county                         998652 non-null object\n",
      "annual_PV_prod                 780969 non-null float64\n",
      "annual_insolation              780969 non-null float64\n",
      "rebate                         386698 non-null object\n",
      "sales_tax_cost                 355309 non-null float64\n",
      "tilt1                          383365 non-null float64\n",
      "tracking_type                  526058 non-null object\n",
      "azimuth1                       363281 non-null float64\n",
      "manuf1_clean                   201121 non-null object\n",
      "inv_man_clean                  49933 non-null object\n",
      "reported_annual_energy_prod    204429 non-null float64\n",
      "new_constr                     1020674 non-null float64\n",
      "tracking                       1020674 non-null float64\n",
      "3rdparty                       306993 non-null float64\n",
      "bipv                           1020674 non-null int64\n",
      "dtypes: float64(14), int64(1), object(17)\n",
      "memory usage: 249.2+ MB\n"
     ]
    }
   ],
   "source": [
    "df_opv.info()\n",
    "\n",
    "# new_constr\n",
    "df_opv['new_constr'].value_counts()\n",
    "\n",
    "#fill these values wth zeros for no\n",
    "df_opv['new_constr'].fillna(0, inplace=True)\n",
    "\n",
    "# other fetaures with too little inforamtion drop them as well \n",
    "df_opv = df_opv.drop(columns = ['pbi_length', 'utility'])\n",
    "\n",
    "df_opv.info()"
   ]
  },
  {
   "cell_type": "code",
   "execution_count": 17,
   "metadata": {},
   "outputs": [],
   "source": [
    "# save it to a database \n",
    "#conn = sqlite3.Connection(\"/home/iborozan/work/Data-Science/projects/renewable/dataset/gosolar.db\")\n",
    "#conn.text_factory = str\n",
    "#df_opv.to_sql('opv_clean', con=conn, if_exists='replace')"
   ]
  },
  {
   "cell_type": "code",
   "execution_count": 18,
   "metadata": {},
   "outputs": [
    {
     "data": {
      "text/plain": [
       "residential    181564\n",
       "Name: install_type, dtype: int64"
      ]
     },
     "execution_count": 18,
     "metadata": {},
     "output_type": "execute_result"
    }
   ],
   "source": [
    "# read back from the database \n",
    "conn = sqlite3.Connection(\"/home/iborozan/work/Data-Science/projects/renewable/dataset/gosolar.db\")\n",
    "df_opv = pd.read_sql(\"SELECT * FROM opv_clean\", con=conn)\n",
    "\n",
    "# make sense to impute some of the nan values \n",
    "# annual_insolation, tilt1, azimuth make sense to use means here\n",
    "# azimuth1: average azimuth (projected angle from north to sun) at solar installation.\n",
    "\n",
    "median_tilt = df_opv.tilt1.median()\n",
    "median_azimuth = df_opv.azimuth1.median()\n",
    "median_annual_insolation = df_opv.annual_insolation.median()\n",
    "\n",
    "df_opv.tilt1.fillna(median_tilt, inplace=True)\n",
    "df_opv.azimuth1.fillna(median_azimuth, inplace=True)\n",
    "df_opv.annual_insolation.fillna(median_annual_insolation, inplace=True)\n",
    "# interested in residential only \n",
    "mask = ((df_opv['install_type'] == 'residential') | (df_opv['install_type'] == 'Residential')) & ((df_opv['size_kw'] > 0) & (~df_opv['annual_PV_prod'].isnull()) & (~df_opv['annual_insolation'].isnull()) & (~df_opv['azimuth1'].isnull() & (~df_opv['reported_annual_energy_prod'].isnull())))\n",
    "\n",
    "df_opv_resid_us = df_opv[mask]\n",
    "\n",
    "df_opv_resid_us['install_type'].value_counts()"
   ]
  },
  {
   "cell_type": "code",
   "execution_count": 19,
   "metadata": {},
   "outputs": [],
   "source": [
    "# combaine these with latitude and longitude info  \n",
    "\n",
    "df_opv_resid_us = df_opv_resid_us.merge(zip_lat_lon, left_on=\"zipcode\", right_on=\"Zip\")"
   ]
  },
  {
   "cell_type": "code",
   "execution_count": 20,
   "metadata": {},
   "outputs": [],
   "source": [
    "# output these zipcodes for NREL querying\n",
    "# df_opv_resid_us[['zipcode', 'Latitude', 'Longitude']].drop_duplicates(subset='zipcode', keep='first').to_csv('us_zip_codes_gosolar2.csv', index=False)\n",
    "# upload the irradiance data downloaded from nrel \n",
    "conn = sqlite3.Connection(\"/home/iborozan/work/Data-Science/projects/renewable/dataset/NREL-US/gosolar.db\")\n",
    "\n",
    "zipcode_irradiance = pd.read_sql(\"SELECT * FROM zipcode_data\", con=conn)\n",
    "\n",
    "# save the database for future use\n",
    "#conn2 = sqlite3.Connection(\"/home/iborozan/work/Data-Science/Insight/project/solar/solar/solar/models/nrel_data.db\")\n",
    "#zipcode_irradiance.to_sql('nrel_data', con=conn2, if_exists='replace')"
   ]
  },
  {
   "cell_type": "markdown",
   "metadata": {},
   "source": [
    "### Consider only installations above 39 degree North based on the solar irradiance map from [NSRDB]( https://www.nrel.gov/gis/images/solar/solar_ghi_2018_usa_scale_01.jpg)"
   ]
  },
  {
   "cell_type": "code",
   "execution_count": 21,
   "metadata": {},
   "outputs": [],
   "source": [
    "# before merging convert the column with zipcodes/postal codes to str \n",
    "\n",
    "zipcode_irradiance['zip_str'] = zipcode_irradiance['Zipcode'].apply(str)\n",
    "\n",
    "df_opv_resid_us['zip_str'] = df_opv_resid_us['Zip'].apply(str)\n",
    "\n",
    "df_opv_resid_us_irr = df_opv_resid_us.merge(zipcode_irradiance, on=\"zip_str\", how='left')\n",
    "\n",
    "# Now take only data points that are close to Canada/ON above the 39th parallel \n",
    "df_opv_resid_us_north = df_opv_resid_us_irr[df_opv_resid_us_irr['Latitude'] >= 39]"
   ]
  },
  {
   "cell_type": "code",
   "execution_count": 14,
   "metadata": {
    "scrolled": true
   },
   "outputs": [
    {
     "name": "stdout",
     "output_type": "stream",
     "text": [
      "<class 'pandas.core.frame.DataFrame'>\n",
      "Int64Index: 97095 entries, 4271 to 172021\n",
      "Data columns (total 45 columns):\n",
      "index_x                        97095 non-null int64\n",
      "state                          97095 non-null object\n",
      "date_installed                 97095 non-null object\n",
      "incentive_prog_names           97095 non-null object\n",
      "type                           97095 non-null object\n",
      "size_kw                        97095 non-null float64\n",
      "appraised                      28301 non-null float64\n",
      "zipcode                        97095 non-null float64\n",
      "install_type                   97095 non-null object\n",
      "installer                      57978 non-null object\n",
      "cost_per_watt                  96909 non-null float64\n",
      "cost                           96909 non-null float64\n",
      "lbnl_tts_version_year          97095 non-null float64\n",
      "lbnl_tts                       97095 non-null float64\n",
      "city                           97095 non-null object\n",
      "utility_clean                  96941 non-null object\n",
      "tech_1                         67283 non-null object\n",
      "model1_clean                   67283 non-null object\n",
      "county                         96872 non-null object\n",
      "annual_PV_prod                 97095 non-null float64\n",
      "annual_insolation              97095 non-null float64\n",
      "rebate                         66585 non-null object\n",
      "sales_tax_cost                 7857 non-null float64\n",
      "tilt1                          97095 non-null float64\n",
      "tracking_type                  57834 non-null object\n",
      "azimuth1                       97095 non-null float64\n",
      "manuf1_clean                   26805 non-null object\n",
      "inv_man_clean                  6441 non-null object\n",
      "reported_annual_energy_prod    97095 non-null float64\n",
      "new_constr                     97095 non-null float64\n",
      "tracking                       97095 non-null float64\n",
      "3rdparty                       50695 non-null float64\n",
      "bipv                           97095 non-null int64\n",
      "Zip                            97095 non-null int64\n",
      "Latitude                       97095 non-null float64\n",
      "Longitude                      97095 non-null float64\n",
      "zip_str                        97095 non-null object\n",
      "index_y                        97022 non-null float64\n",
      "DHI                            97022 non-null float64\n",
      "DNI                            97022 non-null float64\n",
      "GHI                            97022 non-null float64\n",
      "Solar Zenith Angle             97022 non-null float64\n",
      "Temperature                    97022 non-null float64\n",
      "Wind Speed                     97022 non-null float64\n",
      "Zipcode                        97022 non-null object\n",
      "dtypes: float64(25), int64(3), object(17)\n",
      "memory usage: 34.1+ MB\n"
     ]
    }
   ],
   "source": [
    "df_opv_resid_us_north.info()"
   ]
  },
  {
   "cell_type": "code",
   "execution_count": 15,
   "metadata": {},
   "outputs": [],
   "source": [
    "# drop extra columns from mergining data that are not needed "
   ]
  },
  {
   "cell_type": "code",
   "execution_count": 22,
   "metadata": {
    "scrolled": true
   },
   "outputs": [
    {
     "name": "stdout",
     "output_type": "stream",
     "text": [
      "<class 'pandas.core.frame.DataFrame'>\n",
      "Int64Index: 97095 entries, 4271 to 172021\n",
      "Data columns (total 41 columns):\n",
      "state                          97095 non-null object\n",
      "date_installed                 97095 non-null object\n",
      "incentive_prog_names           97095 non-null object\n",
      "type                           97095 non-null object\n",
      "size_kw                        97095 non-null float64\n",
      "appraised                      28301 non-null float64\n",
      "zipcode                        97095 non-null float64\n",
      "install_type                   97095 non-null object\n",
      "installer                      57978 non-null object\n",
      "cost_per_watt                  96909 non-null float64\n",
      "cost                           96909 non-null float64\n",
      "lbnl_tts_version_year          97095 non-null float64\n",
      "lbnl_tts                       97095 non-null float64\n",
      "city                           97095 non-null object\n",
      "utility_clean                  96941 non-null object\n",
      "tech_1                         67283 non-null object\n",
      "model1_clean                   67283 non-null object\n",
      "county                         96872 non-null object\n",
      "annual_PV_prod                 97095 non-null float64\n",
      "annual_insolation              97095 non-null float64\n",
      "rebate                         66585 non-null object\n",
      "sales_tax_cost                 7857 non-null float64\n",
      "tilt1                          97095 non-null float64\n",
      "tracking_type                  57834 non-null object\n",
      "azimuth1                       97095 non-null float64\n",
      "manuf1_clean                   26805 non-null object\n",
      "inv_man_clean                  6441 non-null object\n",
      "reported_annual_energy_prod    97095 non-null float64\n",
      "new_constr                     97095 non-null float64\n",
      "tracking                       97095 non-null float64\n",
      "3rdparty                       50695 non-null float64\n",
      "bipv                           97095 non-null int64\n",
      "Latitude                       97095 non-null float64\n",
      "Longitude                      97095 non-null float64\n",
      "zip_str                        97095 non-null object\n",
      "DHI                            97022 non-null float64\n",
      "DNI                            97022 non-null float64\n",
      "GHI                            97022 non-null float64\n",
      "Solar Zenith Angle             97022 non-null float64\n",
      "Temperature                    97022 non-null float64\n",
      "Wind Speed                     97022 non-null float64\n",
      "dtypes: float64(24), int64(1), object(16)\n",
      "memory usage: 31.1+ MB\n"
     ]
    }
   ],
   "source": [
    "df_opv_resid_us_north = df_opv_resid_us_north.drop(columns = ['Zipcode', 'Zip', 'index_y', 'index_x'])\n",
    "\n",
    "df_opv_resid_us_north.info()"
   ]
  },
  {
   "cell_type": "markdown",
   "metadata": {},
   "source": [
    "## Discover and Visualize the Data to Gain Insights "
   ]
  },
  {
   "cell_type": "markdown",
   "metadata": {},
   "source": [
    "### Detect outliers "
   ]
  },
  {
   "cell_type": "code",
   "execution_count": 23,
   "metadata": {},
   "outputs": [
    {
     "data": {
      "text/plain": [
       "True     97067\n",
       "False       28\n",
       "Name: reported_annual_energy_prod_norm, dtype: int64"
      ]
     },
     "execution_count": 23,
     "metadata": {},
     "output_type": "execute_result"
    }
   ],
   "source": [
    "df_opv_resid_us_north['reported_annual_energy_prod_norm'] = df_opv_resid_us_north['reported_annual_energy_prod'] / df_opv_resid_us_north['size_kw']\n",
    "\n",
    "# look at six standard deviation from the mean\n",
    "\n",
    "reported_annual_energy_prod_norm_std = df_opv_resid_us_north.reported_annual_energy_prod_norm.std()\n",
    "reported_annual_energy_prod_norm_mean = df_opv_resid_us_north.reported_annual_energy_prod_norm.mean()\n",
    "mask_outliers = np.abs((reported_annual_energy_prod_norm_mean - df_opv_resid_us_north['reported_annual_energy_prod_norm'])/reported_annual_energy_prod_norm_std) < 6\n",
    "\n",
    "# outliers are designated as False \n",
    "mask_outliers.value_counts()"
   ]
  },
  {
   "cell_type": "markdown",
   "metadata": {},
   "source": [
    "### Plot outliers "
   ]
  },
  {
   "cell_type": "code",
   "execution_count": 18,
   "metadata": {},
   "outputs": [
    {
     "data": {
      "image/png": "[encoded data removed]",
      "text/plain": [
       "<Figure size 720x504 with 1 Axes>"
      ]
     },
     "metadata": {},
     "output_type": "display_data"
    }
   ],
   "source": [
    "plt.figure(figsize=((10,7)))\n",
    "plt.scatter(df_opv_resid_us_north['reported_annual_energy_prod'], df_opv_resid_us_north['annual_PV_prod'], alpha=0.6, c = 'blue')\n",
    "# in read are the points that we keep \n",
    "plt.scatter(df_opv_resid_us_north['reported_annual_energy_prod'][mask_outliers], df_opv_resid_us_north['annual_PV_prod'][mask_outliers], alpha=0.6, c = 'red')\n",
    "#sns.regplot(df_opv_resid_us_north['reported_annual_energy_prod'], df_opv_resid_us_north['annual_PV_prod'], ci=99.73)\n",
    "plt.xlim(0,500000)\n",
    "plt.ylim(0,500000)\n",
    "plt.ylabel(\"NREL predicted kWh/Annum\")\n",
    "plt.xlabel(\"User Reported kWh/Annum\")\n",
    "plt.title(\"NREL predicted vs. Reported kWh/Annum\", size=15)\n",
    "sns.set_style(\"white\")\n",
    "sns.despine(offset=10, trim=False)"
   ]
  },
  {
   "cell_type": "markdown",
   "metadata": {},
   "source": [
    "Some installtions on this plot (highlighted in blue) are clearly producing too much of the energy output for their size so I will not use them in my estimations "
   ]
  },
  {
   "cell_type": "code",
   "execution_count": 24,
   "metadata": {},
   "outputs": [],
   "source": [
    "#remove outlieres (in blue) from the dataset \n",
    "df_opv_resid_us_north_cleaned = df_opv_resid_us_north[mask_outliers]"
   ]
  },
  {
   "cell_type": "code",
   "execution_count": 20,
   "metadata": {},
   "outputs": [],
   "source": [
    "# output this to a database for saving \n",
    "#conn = sqlite3.Connection(\"/home/iborozan/work/Data-Science/projects/renewable/dataset/gosolar.db\")\n",
    "#df_opv_resid_us_north_cleaned.to_sql('df_opv_resid_us_north_cleaned', con=conn, if_exists='replace')\n",
    "# read it back from the db \n",
    "#df_opv_resid_us_north_cleaned = pd.read_sql(\"SELECT * FROM df_opv_resid_us_north_cleaned\", con=conn)"
   ]
  },
  {
   "cell_type": "code",
   "execution_count": 21,
   "metadata": {},
   "outputs": [
    {
     "data": {
      "text/plain": [
       "'12/31/2015'"
      ]
     },
     "execution_count": 21,
     "metadata": {},
     "output_type": "execute_result"
    }
   ],
   "source": [
    "# look at max and min dates of installation \n",
    "max(df_opv_resid_us_north_cleaned['date_installed'])"
   ]
  },
  {
   "cell_type": "code",
   "execution_count": 22,
   "metadata": {},
   "outputs": [
    {
     "data": {
      "text/plain": [
       "'01/01/2006'"
      ]
     },
     "execution_count": 22,
     "metadata": {},
     "output_type": "execute_result"
    }
   ],
   "source": [
    "min(df_opv_resid_us_north_cleaned['date_installed'])"
   ]
  },
  {
   "cell_type": "markdown",
   "metadata": {},
   "source": [
    "### Plot irradiance data as a function of the longitude"
   ]
  },
  {
   "cell_type": "code",
   "execution_count": 23,
   "metadata": {},
   "outputs": [
    {
     "data": {
      "text/plain": [
       "Text(31.875, 0.5, 'W/m2')"
      ]
     },
     "execution_count": 23,
     "metadata": {},
     "output_type": "execute_result"
    },
    {
     "data": {
      "text/plain": [
       "<Figure size 720x504 with 0 Axes>"
      ]
     },
     "metadata": {},
     "output_type": "display_data"
    },
    {
     "data": {
      "image/png": "[encoded data removed]",
      "text/plain": [
       "<Figure size 432x288 with 2 Axes>"
      ]
     },
     "metadata": {},
     "output_type": "display_data"
    }
   ],
   "source": [
    "gdf = gpd.GeoDataFrame(df_opv_resid_us_north_cleaned, geometry=gpd.points_from_xy(df_opv_resid_us_north_cleaned.Longitude, df_opv_resid_us_north_cleaned.Latitude))\n",
    "\n",
    "usa = gpd.read_file('/home/iborozan/work/Data-Science/projects/renewable/dataset/maps/us/states.shp')\n",
    "\n",
    "#DNI\n",
    "plt.figure(figsize=((10,7)))\n",
    "ax = usa[(usa['STATE_NAME'] != 'Alaska') & (usa['STATE_NAME'] != 'Hawaii')].plot(color='white', edgecolor='black')\n",
    "gdf.plot(ax=ax,  alpha=0.05,  column='DNI', cmap=plt.get_cmap(\"jet\"), legend = True, label=\"DNI\")\n",
    "plt.suptitle('Direct Normal Irradiance', fontsize=20)\n",
    "plt.xlabel('Longitude', fontsize=18)\n",
    "plt.ylabel('W/m2', fontsize=16)\n",
    "#save_fig(\"DNI_irradiance\")"
   ]
  },
  {
   "cell_type": "code",
   "execution_count": 24,
   "metadata": {},
   "outputs": [
    {
     "data": {
      "text/plain": [
       "Text(31.875, 0.5, 'W/m2')"
      ]
     },
     "execution_count": 24,
     "metadata": {},
     "output_type": "execute_result"
    },
    {
     "data": {
      "text/plain": [
       "<Figure size 720x504 with 0 Axes>"
      ]
     },
     "metadata": {},
     "output_type": "display_data"
    },
    {
     "data": {
      "image/png": "[encoded data removed]",
      "text/plain": [
       "<Figure size 432x288 with 2 Axes>"
      ]
     },
     "metadata": {},
     "output_type": "display_data"
    }
   ],
   "source": [
    "plt.figure(figsize=((10,7)))\n",
    "ax = usa[(usa['STATE_NAME'] != 'Alaska') & (usa['STATE_NAME'] != 'Hawaii')].plot(color='white', edgecolor='black')\n",
    "#gdf.plot(ax=ax, color='orange', alpha = 0.2)\n",
    "#save_fig(\"Measured_energy_output\")\n",
    "gdf.plot(ax=ax,  alpha=0.05,  column='DHI', cmap=plt.get_cmap(\"jet\"), legend = True, label=\"DHI\")\n",
    "plt.suptitle('Direct Horizontal Irradiance', fontsize=20)\n",
    "plt.xlabel('Longitude', fontsize=18)\n",
    "plt.ylabel('W/m2', fontsize=16)\n",
    "#plt.show()"
   ]
  },
  {
   "cell_type": "code",
   "execution_count": 25,
   "metadata": {},
   "outputs": [
    {
     "data": {
      "text/plain": [
       "Text(31.875, 0.5, 'W/m2')"
      ]
     },
     "execution_count": 25,
     "metadata": {},
     "output_type": "execute_result"
    },
    {
     "data": {
      "text/plain": [
       "<Figure size 720x504 with 0 Axes>"
      ]
     },
     "metadata": {},
     "output_type": "display_data"
    },
    {
     "data": {
      "image/png": "[encoded data removed]",
      "text/plain": [
       "<Figure size 432x288 with 2 Axes>"
      ]
     },
     "metadata": {},
     "output_type": "display_data"
    }
   ],
   "source": [
    "#GHI\n",
    "plt.figure(figsize=((10,7)))\n",
    "ax = usa[(usa['STATE_NAME'] != 'Alaska') & (usa['STATE_NAME'] != 'Hawaii')].plot(color='white', edgecolor='black')\n",
    "#gdf.plot(ax=ax, color='orange', alpha = 0.2)\n",
    "#save_fig(\"Measured_energy_output\")\n",
    "gdf.plot(ax=ax,  alpha=0.05,  column='GHI', cmap=plt.get_cmap(\"jet\"), legend = True, label=\"GHI\")\n",
    "plt.suptitle('Global Horizontal Irradiance', fontsize=20)\n",
    "plt.xlabel('Longitude', fontsize=18)\n",
    "plt.ylabel('W/m2', fontsize=16)\n",
    "#plt.show()"
   ]
  },
  {
   "cell_type": "code",
   "execution_count": 25,
   "metadata": {
    "scrolled": true
   },
   "outputs": [
    {
     "name": "stderr",
     "output_type": "stream",
     "text": [
      "/home/iborozan/anaconda3/envs/py_demo/lib/python3.5/site-packages/ipykernel_launcher.py:1: SettingWithCopyWarning: \n",
      "A value is trying to be set on a copy of a slice from a DataFrame.\n",
      "Try using .loc[row_indexer,col_indexer] = value instead\n",
      "\n",
      "See the caveats in the documentation: http://pandas.pydata.org/pandas-docs/stable/indexing.html#indexing-view-versus-copy\n",
      "  \"\"\"Entry point for launching an IPython kernel.\n",
      "/home/iborozan/anaconda3/envs/py_demo/lib/python3.5/site-packages/ipykernel_launcher.py:2: SettingWithCopyWarning: \n",
      "A value is trying to be set on a copy of a slice from a DataFrame\n",
      "\n",
      "See the caveats in the documentation: http://pandas.pydata.org/pandas-docs/stable/indexing.html#indexing-view-versus-copy\n",
      "  \n",
      "/home/iborozan/anaconda3/envs/py_demo/lib/python3.5/site-packages/pandas/core/generic.py:7626: SettingWithCopyWarning: \n",
      "A value is trying to be set on a copy of a slice from a DataFrame\n",
      "\n",
      "See the caveats in the documentation: http://pandas.pydata.org/pandas-docs/stable/indexing.html#indexing-view-versus-copy\n",
      "  self._update_inplace(new_data)\n",
      "/home/iborozan/anaconda3/envs/py_demo/lib/python3.5/site-packages/IPython/core/interactiveshell.py:2963: SettingWithCopyWarning: \n",
      "A value is trying to be set on a copy of a slice from a DataFrame\n",
      "\n",
      "See the caveats in the documentation: http://pandas.pydata.org/pandas-docs/stable/indexing.html#indexing-view-versus-copy\n",
      "  exec(code_obj, self.user_global_ns, self.user_ns)\n"
     ]
    },
    {
     "data": {
      "text/plain": [
       "Text(0, 0.5, 'log(DNI)')"
      ]
     },
     "execution_count": 25,
     "metadata": {},
     "output_type": "execute_result"
    },
    {
     "data": {
      "image/png": "[encoded data removed]",
      "text/plain": [
       "<Figure size 432x288 with 1 Axes>"
      ]
     },
     "metadata": {},
     "output_type": "display_data"
    }
   ],
   "source": [
    "df_opv_resid_us_north_cleaned['longitude_split'] = '< 100 degree of long'\n",
    "df_opv_resid_us_north_cleaned['longitude_split'][-df_opv_resid_us_north_cleaned['Longitude'] > 100] = '> 100 degree of long'\n",
    "\n",
    "\n",
    "ax = sns.boxplot(x=\"longitude_split\", y=\"DNI\", data=df_opv_resid_us_north_cleaned)\n",
    "#ax.set(yscale=\"log\")\n",
    "plt.suptitle('Direct Normal Irradiance', fontsize=20)\n",
    "ax.set_xlabel(\"East/West coast split along the 100 degree longitude\", \n",
    "                fontsize=14)\n",
    "ax.set_ylabel(\"log(DNI)\",\n",
    "                fontsize=14)\n",
    "#ax.tick_params(labelsize=10)\n",
    "#plt.show()"
   ]
  },
  {
   "cell_type": "markdown",
   "metadata": {},
   "source": [
    "### Found their is a significant difference in irradiance between the East and the West coasts"
   ]
  },
  {
   "cell_type": "code",
   "execution_count": 27,
   "metadata": {},
   "outputs": [
    {
     "data": {
      "text/plain": [
       "Text(0, 0.5, 'log(DHI)')"
      ]
     },
     "execution_count": 27,
     "metadata": {},
     "output_type": "execute_result"
    },
    {
     "data": {
      "image/png": "[encoded data removed]",
      "text/plain": [
       "<Figure size 432x288 with 1 Axes>"
      ]
     },
     "metadata": {},
     "output_type": "display_data"
    }
   ],
   "source": [
    "ax = sns.boxplot(x=\"longitude_split\", y=\"DHI\", data=df_opv_resid_us_north_cleaned)\n",
    "#ax.set(yscale=\"log\")\n",
    "plt.suptitle('Direct Horizontal Irradiance', fontsize=20)\n",
    "ax.set_xlabel(\"East/West coast split along the 100 degree longitude\", \n",
    "                fontsize=14)\n",
    "ax.set_ylabel(\"log(DHI)\",\n",
    "                fontsize=14)\n",
    "#ax.tick_params(labelsize=10)\n",
    "#plt.show()"
   ]
  },
  {
   "cell_type": "code",
   "execution_count": 28,
   "metadata": {},
   "outputs": [
    {
     "data": {
      "text/plain": [
       "Text(0, 0.5, 'log(GHI(W/m2))')"
      ]
     },
     "execution_count": 28,
     "metadata": {},
     "output_type": "execute_result"
    },
    {
     "data": {
      "image/png": "[encoded data removed]",
      "text/plain": [
       "<Figure size 432x288 with 1 Axes>"
      ]
     },
     "metadata": {},
     "output_type": "display_data"
    }
   ],
   "source": [
    "ax = sns.boxplot(x=\"longitude_split\", y=\"GHI\", data=df_opv_resid_us_north_cleaned)\n",
    "#ax.set(yscale=\"log\")\n",
    "plt.suptitle('Global Horizontal Irradiance', fontsize=20)\n",
    "ax.set_xlabel(\"East/West coast split along the 100 degree longitude\", \n",
    "                fontsize=14)\n",
    "ax.set_ylabel(\"log(GHI(W/m2))\",\n",
    "                fontsize=14)\n",
    "#ax.tick_params(labelsize=10)\n",
    "#plt.show()"
   ]
  },
  {
   "cell_type": "code",
   "execution_count": 29,
   "metadata": {},
   "outputs": [
    {
     "data": {
      "text/plain": [
       "Ttest_indResult(statistic=-15.31285350010687, pvalue=1.117957298486334e-47)"
      ]
     },
     "execution_count": 29,
     "metadata": {},
     "output_type": "execute_result"
    }
   ],
   "source": [
    "# do a t-test to see if this diff is significant? \n",
    "# GHI\n",
    "ghi1 = df_opv_resid_us_north_cleaned[df_opv_resid_us_north_cleaned['longitude_split'] == '< 100 degree of long']['GHI']\n",
    "ghi2 = df_opv_resid_us_north_cleaned[df_opv_resid_us_north_cleaned['longitude_split'] == '> 100 degree of long']['GHI']\n",
    "\n",
    "ttest_ind(ghi1[~ghi1.isnull()], ghi2[~ghi2.isnull()], equal_var = False)"
   ]
  },
  {
   "cell_type": "code",
   "execution_count": 30,
   "metadata": {},
   "outputs": [
    {
     "data": {
      "text/plain": [
       "Ttest_indResult(statistic=102.39192699040787, pvalue=0.0)"
      ]
     },
     "execution_count": 30,
     "metadata": {},
     "output_type": "execute_result"
    }
   ],
   "source": [
    "# DHI\n",
    "dhi1 = df_opv_resid_us_north_cleaned[df_opv_resid_us_north_cleaned['longitude_split'] == '< 100 degree of long']['DHI']\n",
    "dhi2 = df_opv_resid_us_north_cleaned[df_opv_resid_us_north_cleaned['longitude_split'] == '> 100 degree of long']['DHI']\n",
    "\n",
    "ttest_ind(dhi1[~dhi1.isnull()], dhi2[~dhi2.isnull()], equal_var = False)"
   ]
  },
  {
   "cell_type": "code",
   "execution_count": 31,
   "metadata": {},
   "outputs": [
    {
     "data": {
      "text/plain": [
       "Ttest_indResult(statistic=-28.28223368548881, pvalue=1.3933211037572761e-129)"
      ]
     },
     "execution_count": 31,
     "metadata": {},
     "output_type": "execute_result"
    }
   ],
   "source": [
    "# DNI\n",
    "dni1 = df_opv_resid_us_north_cleaned[df_opv_resid_us_north_cleaned['longitude_split'] == '< 100 degree of long']['DNI']\n",
    "dni2 = df_opv_resid_us_north_cleaned[df_opv_resid_us_north_cleaned['longitude_split'] == '> 100 degree of long']['DNI']\n",
    "\n",
    "ttest_ind(dni1[~dni1.isnull()], dni2[~dni2.isnull()], equal_var = False)"
   ]
  },
  {
   "cell_type": "code",
   "execution_count": 180,
   "metadata": {
    "scrolled": true
   },
   "outputs": [],
   "source": [
    "# To predict the energy output in Canada I decided to keep only datapoints east of the 100 degree longitude \n",
    "\n",
    "df_opv_resid_us_north_cleaned_east  = df_opv_resid_us_north_cleaned[df_opv_resid_us_north_cleaned['longitude_split'] == '< 100 degree of long']\n"
   ]
  },
  {
   "cell_type": "code",
   "execution_count": 179,
   "metadata": {},
   "outputs": [
    {
     "data": {
      "text/plain": [
       "<matplotlib.axes._subplots.AxesSubplot at 0x7f3b52480e10>"
      ]
     },
     "execution_count": 179,
     "metadata": {},
     "output_type": "execute_result"
    },
    {
     "data": {
      "image/png": "[encoded data removed]",
      "text/plain": [
       "<Figure size 432x288 with 1 Axes>"
      ]
     },
     "metadata": {},
     "output_type": "display_data"
    }
   ],
   "source": [
    "on_communities = pd.read_csv('/home/iborozan/work/Data-Science/projects/renewable/dataset/retired/communities-ON/geonames.csv', sep = ',')\n",
    "\n",
    "#df_plot_geo = pd.DataFrame(np.zeros((on_communities.shape[0], df_opv_resid_us_north_cleaned_east.shape[1])))\n",
    "df_plot_geo = pd.DataFrame(np.zeros((on_communities.shape[0], df_opv_resid_us_north_cleaned.shape[1])))\n",
    "#df_plot_geo.columns = df_opv_resid_us_north_cleaned_east.columns\n",
    "df_plot_geo.columns = df_opv_resid_us_north_cleaned.columns\n",
    "df_plot_geo['Latitude'] = on_communities.latitude\n",
    "df_plot_geo['Longitude'] = on_communities.longitude\n",
    "\n",
    "#df_plot = pd.concat([df_plot_geo, df_opv_resid_us_north_cleaned_east])\n",
    "\n",
    "world = gpd.read_file(gpd.datasets.get_path('naturalearth_lowres'))\n",
    "\n",
    "ax = world[world.continent == 'North America'].plot(color='white', edgecolor='black')\n",
    "\n",
    "gdf_ca = gpd.GeoDataFrame(df_plot_geo, geometry=gpd.points_from_xy(df_plot_geo.Longitude, df_plot_geo.Latitude))\n",
    "#gdf_usa = gpd.GeoDataFrame(df_opv_resid_us_north_cleaned_east, geometry=gpd.points_from_xy(df_opv_resid_us_north_cleaned_east.Longitude, df_opv_resid_us_north_cleaned_east.Latitude))\n",
    "gdf_usa = gpd.GeoDataFrame(df_opv_resid_us_north_cleaned, geometry=gpd.points_from_xy(df_opv_resid_us_north_cleaned.Longitude, df_opv_resid_us_north_cleaned.Latitude))\n",
    "gdf_ca.plot(ax=ax, alpha=0.1,  c = 'blue')\n",
    "gdf_usa.plot(ax=ax, alpha=0.01,  c = 'red')\n",
    "#save_fig(\"Ontaro_communities\")\n",
    "#plt.show()"
   ]
  },
  {
   "cell_type": "markdown",
   "metadata": {},
   "source": [
    "### To predict the energy output in Ontario I decided to keep only datapoints east from 100 degree longitude "
   ]
  },
  {
   "cell_type": "code",
   "execution_count": 181,
   "metadata": {},
   "outputs": [
    {
     "name": "stdout",
     "output_type": "stream",
     "text": [
      "Saving figure /home/iborozan/work/Data-Science/Insight/project/presentations/week4/Ontaro_communities.png\n"
     ]
    },
    {
     "data": {
      "image/png": "[encoded data removed]",
      "text/plain": [
       "<Figure size 432x288 with 1 Axes>"
      ]
     },
     "metadata": {},
     "output_type": "display_data"
    }
   ],
   "source": [
    "def save_fig(fig_id, tight_layout=True, fig_extension=\"png\", resolution=300):\n",
    "    \"\"\"A function for saving figures in a prespecified direcotry\"\"\"\n",
    "    IMAGES_PATH = '/home/iborozan/work/Data-Science/Insight/project/presentations/week4/'\n",
    "    path = os.path.join(IMAGES_PATH, fig_id + \".\" + fig_extension)\n",
    "    print(\"Saving figure\", path)\n",
    "    if tight_layout:\n",
    "        plt.tight_layout()\n",
    "    plt.savefig(path, format=fig_extension, dpi=resolution)\n",
    "\n",
    "\n",
    "\n",
    "# now plot the data but without west cost data \n",
    "df_plot_geo = pd.DataFrame(np.zeros((on_communities.shape[0], df_opv_resid_us_north_cleaned_east.shape[1])))\n",
    "#df_plot_geo = pd.DataFrame(np.zeros((on_communities.shape[0], df_opv_resid_us_north_cleaned.shape[1])))\n",
    "df_plot_geo.columns = df_opv_resid_us_north_cleaned_east.columns\n",
    "#df_plot_geo.columns = df_opv_resid_us_north_cleaned.columns\n",
    "df_plot_geo['Latitude'] = on_communities.latitude\n",
    "df_plot_geo['Longitude'] = on_communities.longitude\n",
    "\n",
    "#df_plot = pd.concat([df_plot_geo, df_opv_resid_us_north_cleaned_east])\n",
    "\n",
    "\n",
    "world = gpd.read_file(gpd.datasets.get_path('naturalearth_lowres'))\n",
    "\n",
    "ax = world[world.continent == 'North America'].plot(color='white', edgecolor='black')\n",
    "\n",
    "gdf_ca = gpd.GeoDataFrame(df_plot_geo, geometry=gpd.points_from_xy(df_plot_geo.Longitude, df_plot_geo.Latitude))\n",
    "gdf_usa = gpd.GeoDataFrame(df_opv_resid_us_north_cleaned_east, geometry=gpd.points_from_xy(df_opv_resid_us_north_cleaned_east.Longitude, df_opv_resid_us_north_cleaned_east.Latitude))\n",
    "#gdf_usa = gpd.GeoDataFrame(df_opv_resid_us_north_cleaned, geometry=gpd.points_from_xy(df_opv_resid_us_north_cleaned.Longitude, df_opv_resid_us_north_cleaned.Latitude))\n",
    "gdf_ca.plot(ax=ax, alpha=0.1,  c = 'blue')\n",
    "gdf_usa.plot(ax=ax, alpha=0.01,  c = 'red')\n",
    "save_fig(\"Ontaro_communities\")\n",
    "#plt.show()    "
   ]
  },
  {
   "cell_type": "markdown",
   "metadata": {},
   "source": [
    "### Compare baseline data from NREL to real data reported from installations on the ground"
   ]
  },
  {
   "cell_type": "code",
   "execution_count": 34,
   "metadata": {},
   "outputs": [
    {
     "data": {
      "text/plain": [
       "<matplotlib.legend.Legend at 0x7fdf8f0b2cf8>"
      ]
     },
     "execution_count": 34,
     "metadata": {},
     "output_type": "execute_result"
    },
    {
     "data": {
      "image/png": "[encoded data removed]",
      "text/plain": [
       "<Figure size 720x504 with 1 Axes>"
      ]
     },
     "metadata": {},
     "output_type": "display_data"
    }
   ],
   "source": [
    "# Plot the two histograms of the baseline and the reported energy produced \n",
    "plt.figure(figsize=((10,7)))\n",
    "bins = np.linspace(0, 40000, 50)\n",
    "plt.hist(list(df_opv_resid_us_north_cleaned_east['reported_annual_energy_prod']), bins, label='reported kWh/Annum', alpha=0.5)\n",
    "plt.hist(list(df_opv_resid_us_north_cleaned_east['annual_PV_prod']), bins, label='predicted kWh/Annum', alpha=0.5)\n",
    "plt.legend(loc='upper right')\n",
    "#save_fig('histogram_energy_predicted_real')\n",
    "#plt.show()"
   ]
  },
  {
   "cell_type": "code",
   "execution_count": 28,
   "metadata": {},
   "outputs": [
    {
     "name": "stderr",
     "output_type": "stream",
     "text": [
      "/home/iborozan/anaconda3/envs/py_demo/lib/python3.5/site-packages/ipykernel_launcher.py:7: SettingWithCopyWarning: \n",
      "A value is trying to be set on a copy of a slice from a DataFrame.\n",
      "Try using .loc[row_indexer,col_indexer] = value instead\n",
      "\n",
      "See the caveats in the documentation: http://pandas.pydata.org/pandas-docs/stable/indexing.html#indexing-view-versus-copy\n",
      "  import sys\n",
      "/home/iborozan/anaconda3/envs/py_demo/lib/python3.5/site-packages/pandas/core/indexing.py:362: SettingWithCopyWarning: \n",
      "A value is trying to be set on a copy of a slice from a DataFrame.\n",
      "Try using .loc[row_indexer,col_indexer] = value instead\n",
      "\n",
      "See the caveats in the documentation: http://pandas.pydata.org/pandas-docs/stable/indexing.html#indexing-view-versus-copy\n",
      "  self.obj[key] = _infer_fill_value(value)\n",
      "/home/iborozan/anaconda3/envs/py_demo/lib/python3.5/site-packages/pandas/core/indexing.py:543: SettingWithCopyWarning: \n",
      "A value is trying to be set on a copy of a slice from a DataFrame.\n",
      "Try using .loc[row_indexer,col_indexer] = value instead\n",
      "\n",
      "See the caveats in the documentation: http://pandas.pydata.org/pandas-docs/stable/indexing.html#indexing-view-versus-copy\n",
      "  self.obj[item] = s\n",
      "/home/iborozan/anaconda3/envs/py_demo/lib/python3.5/site-packages/pandas/core/generic.py:5434: SettingWithCopyWarning: \n",
      "A value is trying to be set on a copy of a slice from a DataFrame\n",
      "\n",
      "See the caveats in the documentation: http://pandas.pydata.org/pandas-docs/stable/indexing.html#indexing-view-versus-copy\n",
      "  self._update_inplace(new_data)\n"
     ]
    }
   ],
   "source": [
    "# feature engeneering and feature selection \n",
    "\n",
    "# A zero tilt angle means that the face of the panel is aimed directly overhead. A positive tilt angle means that the panel faces more towards the equator. In the northern hemisphere that would mean tilting so it faces towards the South. Rarely, the tilt angle can be negative; this means the panel faces away from the equator.\n",
    "\n",
    "# To optimize overall production year-round, tilt your panels at your latitude \n",
    "\n",
    "df_opv_resid_us_north_cleaned_east['tilt_difference'] = np.abs(df_opv_resid_us_north_cleaned_east['tilt1'] - df_opv_resid_us_north_cleaned_east['Latitude'])\n",
    "\n",
    "# have tracking as a categorical variable\n",
    "df_opv_resid_us_north_cleaned_east.loc[:, 'tracking_cat'] = df_opv_resid_us_north_cleaned_east['tracking']\n",
    "df_opv_resid_us_north_cleaned_east.loc[df_opv_resid_us_north_cleaned_east['tracking'] == 0, 'tracking_cat'] = 'No'\n",
    "df_opv_resid_us_north_cleaned_east.loc[df_opv_resid_us_north_cleaned_east['tracking'] == 1, 'tracking_cat'] = 'Yes'\n",
    "\n",
    "# further data cleaning for the tech1 feature\n",
    "\n",
    "df_opv_resid_us_north_cleaned_east.loc[df_opv_resid_us_north_cleaned_east['tech_1'].isnull(), 'tech_1'] = 'unknown_tech' \n",
    "\n",
    "df_opv_resid_us_north_cleaned_east['tech_1'].value_counts()\n",
    "\n",
    "# fill the cost for missing values \n",
    "median_cost = df_opv_resid_us_north_cleaned_east['cost'].median()\n",
    "\n",
    "df_opv_resid_us_north_cleaned_east['cost'].fillna(median_cost, inplace=True)"
   ]
  },
  {
   "cell_type": "markdown",
   "metadata": {},
   "source": [
    "#### Examine azimuth values from the existing installations on the ground  "
   ]
  },
  {
   "cell_type": "code",
   "execution_count": 36,
   "metadata": {},
   "outputs": [
    {
     "data": {
      "image/png": "[encoded data removed]",
      "text/plain": [
       "<Figure size 432x288 with 1 Axes>"
      ]
     },
     "metadata": {},
     "output_type": "display_data"
    }
   ],
   "source": [
    "# Examine azimuth values from existing installations \n",
    "# azimuth1: average azimuth (projected angle from north to the sun) at solar installation.\n",
    "# inlcude the picture from https://www.wholesalesolar.com/blog/solar-panel-azimuth-angle/\n",
    "sns.distplot(df_opv_resid_us_north_cleaned_east['azimuth1'], kde=False, rug=False);\n",
    "plt.show()\n",
    "#plt.hist(list(df_opv_resid_us_north_cleaned_east['azimuth1']))"
   ]
  },
  {
   "cell_type": "markdown",
   "metadata": {},
   "source": [
    "## Prepare the Data for Machine Learning Algorithms "
   ]
  },
  {
   "cell_type": "markdown",
   "metadata": {},
   "source": [
    "### Split the data into test and training sets and put the test set away "
   ]
  },
  {
   "cell_type": "code",
   "execution_count": 29,
   "metadata": {},
   "outputs": [],
   "source": [
    "train_set, test_set = train_test_split(df_opv_resid_us_north_cleaned_east, test_size=0.2, random_state=42)"
   ]
  },
  {
   "cell_type": "code",
   "execution_count": 30,
   "metadata": {},
   "outputs": [],
   "source": [
    "# seperate features into numerical and categorical variables \n",
    "num_attribs = ['size_kw', 'azimuth1', 'tilt_difference', 'DHI', 'DNI', 'GHI', 'Temperature', 'Wind Speed']\n",
    "cat_attribs = ['tech_1', 'tracking_cat']"
   ]
  },
  {
   "cell_type": "code",
   "execution_count": 31,
   "metadata": {},
   "outputs": [
    {
     "data": {
      "text/html": [
       "<div>\n",
       "<style scoped>\n",
       "    .dataframe tbody tr th:only-of-type {\n",
       "        vertical-align: middle;\n",
       "    }\n",
       "\n",
       "    .dataframe tbody tr th {\n",
       "        vertical-align: top;\n",
       "    }\n",
       "\n",
       "    .dataframe thead th {\n",
       "        text-align: right;\n",
       "    }\n",
       "</style>\n",
       "<table border=\"1\" class=\"dataframe\">\n",
       "  <thead>\n",
       "    <tr style=\"text-align: right;\">\n",
       "      <th></th>\n",
       "      <th>size_kw</th>\n",
       "      <th>azimuth1</th>\n",
       "      <th>tilt_difference</th>\n",
       "      <th>DHI</th>\n",
       "      <th>DNI</th>\n",
       "      <th>GHI</th>\n",
       "      <th>Temperature</th>\n",
       "      <th>Wind Speed</th>\n",
       "    </tr>\n",
       "  </thead>\n",
       "  <tbody>\n",
       "    <tr>\n",
       "      <th>count</th>\n",
       "      <td>76859.000000</td>\n",
       "      <td>76859.000000</td>\n",
       "      <td>76859.000000</td>\n",
       "      <td>76798.000000</td>\n",
       "      <td>76798.000000</td>\n",
       "      <td>76798.000000</td>\n",
       "      <td>76798.000000</td>\n",
       "      <td>76798.000000</td>\n",
       "    </tr>\n",
       "    <tr>\n",
       "      <th>mean</th>\n",
       "      <td>7.227492</td>\n",
       "      <td>180.938992</td>\n",
       "      <td>16.137492</td>\n",
       "      <td>66.319676</td>\n",
       "      <td>192.542212</td>\n",
       "      <td>173.229619</td>\n",
       "      <td>9.601923</td>\n",
       "      <td>1.299214</td>\n",
       "    </tr>\n",
       "    <tr>\n",
       "      <th>std</th>\n",
       "      <td>13.917784</td>\n",
       "      <td>34.826534</td>\n",
       "      <td>6.807458</td>\n",
       "      <td>1.595813</td>\n",
       "      <td>8.181903</td>\n",
       "      <td>3.887521</td>\n",
       "      <td>1.234607</td>\n",
       "      <td>1.452467</td>\n",
       "    </tr>\n",
       "    <tr>\n",
       "      <th>min</th>\n",
       "      <td>0.150000</td>\n",
       "      <td>-26.000000</td>\n",
       "      <td>0.002547</td>\n",
       "      <td>61.067009</td>\n",
       "      <td>150.821575</td>\n",
       "      <td>151.177283</td>\n",
       "      <td>2.899429</td>\n",
       "      <td>0.127158</td>\n",
       "    </tr>\n",
       "    <tr>\n",
       "      <th>25%</th>\n",
       "      <td>4.830000</td>\n",
       "      <td>178.000000</td>\n",
       "      <td>11.526256</td>\n",
       "      <td>65.336416</td>\n",
       "      <td>190.164041</td>\n",
       "      <td>171.989384</td>\n",
       "      <td>8.865525</td>\n",
       "      <td>0.288573</td>\n",
       "    </tr>\n",
       "    <tr>\n",
       "      <th>50%</th>\n",
       "      <td>6.500000</td>\n",
       "      <td>180.000000</td>\n",
       "      <td>18.752098</td>\n",
       "      <td>66.079338</td>\n",
       "      <td>194.421689</td>\n",
       "      <td>173.857763</td>\n",
       "      <td>9.476941</td>\n",
       "      <td>0.633231</td>\n",
       "    </tr>\n",
       "    <tr>\n",
       "      <th>75%</th>\n",
       "      <td>8.829000</td>\n",
       "      <td>180.000000</td>\n",
       "      <td>20.449454</td>\n",
       "      <td>66.951712</td>\n",
       "      <td>197.964384</td>\n",
       "      <td>175.615868</td>\n",
       "      <td>10.568037</td>\n",
       "      <td>1.942283</td>\n",
       "    </tr>\n",
       "    <tr>\n",
       "      <th>max</th>\n",
       "      <td>2611.080000</td>\n",
       "      <td>360.000000</td>\n",
       "      <td>48.292068</td>\n",
       "      <td>74.048973</td>\n",
       "      <td>211.397717</td>\n",
       "      <td>182.213699</td>\n",
       "      <td>11.910731</td>\n",
       "      <td>5.740091</td>\n",
       "    </tr>\n",
       "  </tbody>\n",
       "</table>\n",
       "</div>"
      ],
      "text/plain": [
       "            size_kw      azimuth1  tilt_difference           DHI  \\\n",
       "count  76859.000000  76859.000000     76859.000000  76798.000000   \n",
       "mean       7.227492    180.938992        16.137492     66.319676   \n",
       "std       13.917784     34.826534         6.807458      1.595813   \n",
       "min        0.150000    -26.000000         0.002547     61.067009   \n",
       "25%        4.830000    178.000000        11.526256     65.336416   \n",
       "50%        6.500000    180.000000        18.752098     66.079338   \n",
       "75%        8.829000    180.000000        20.449454     66.951712   \n",
       "max     2611.080000    360.000000        48.292068     74.048973   \n",
       "\n",
       "                DNI           GHI   Temperature    Wind Speed  \n",
       "count  76798.000000  76798.000000  76798.000000  76798.000000  \n",
       "mean     192.542212    173.229619      9.601923      1.299214  \n",
       "std        8.181903      3.887521      1.234607      1.452467  \n",
       "min      150.821575    151.177283      2.899429      0.127158  \n",
       "25%      190.164041    171.989384      8.865525      0.288573  \n",
       "50%      194.421689    173.857763      9.476941      0.633231  \n",
       "75%      197.964384    175.615868     10.568037      1.942283  \n",
       "max      211.397717    182.213699     11.910731      5.740091  "
      ]
     },
     "execution_count": 31,
     "metadata": {},
     "output_type": "execute_result"
    }
   ],
   "source": [
    "# look at the summary of the numerical attributes/features \n",
    "train_set[num_attribs].describe()"
   ]
  },
  {
   "cell_type": "code",
   "execution_count": 168,
   "metadata": {},
   "outputs": [],
   "source": [
    "def save_fig(fig_id, tight_layout=True, fig_extension=\"png\", resolution=300):\n",
    "    \"\"\"A function for saving figures in a prespecified direcotry\"\"\"\n",
    "    IMAGES_PATH = '---'\n",
    "    path = os.path.join(IMAGES_PATH, fig_id + \".\" + fig_extension)\n",
    "    #print(\"Saving figure\", path)\n",
    "    if tight_layout:\n",
    "        plt.tight_layout()\n",
    "    plt.savefig(path, format=fig_extension, dpi=resolution)\n",
    "\n",
    "\n",
    "def corr_heat_map(df, title, size):\n",
    "    \"\"\"\n",
    "    This function plots a correlation heatmap for a dataframe \n",
    "    \"\"\"\n",
    "    corrs = df.corr()\n",
    "    \n",
    "    # set figure size\n",
    "    fig, ax = plt.subplots(figsize = size)\n",
    "    \n",
    "    # generate a mask for the upper triagle \n",
    "    mask = np.zeros_like(corrs, dtype=np.bool)\n",
    "    mask[np.triu_indices_from(mask)] = True\n",
    "    \n",
    "    #plot heatmap\n",
    "    ax = sns.heatmap(corrs, mask=mask, annot = True, cbar=True)\n",
    "    \n",
    "    #resize labels\n",
    "    ax.set_xticklabels(ax.xaxis.get_ticklabels(), fontsize=12, rotation=90)\n",
    "    ax.set_yticklabels(ax.yaxis.get_ticklabels(), fontsize=12, rotation=45)\n",
    "    ax.set_title(title, fontsize=14)\n",
    "    fig.tight_layout()\n",
    "    #https://matplotlib.org/3.1.1/api/_as_gen/matplotlib.pyplot.subplots_adjust.html\n",
    "    plt.subplots_adjust(bottom = 0.33)\n",
    "    #save_fig(\"heatmap_corr\")\n",
    "    #plt.show()"
   ]
  },
  {
   "cell_type": "markdown",
   "metadata": {},
   "source": [
    "### Plot the correlation matrix for numerical attributes"
   ]
  },
  {
   "cell_type": "code",
   "execution_count": 169,
   "metadata": {},
   "outputs": [
    {
     "data": {
      "image/png": "[encoded data removed]",
      "text/plain": [
       "<Figure size 720x720 with 2 Axes>"
      ]
     },
     "metadata": {},
     "output_type": "display_data"
    }
   ],
   "source": [
    "corr_heat_map(train_set[num_attribs], 'Correlations num', (10,10))"
   ]
  },
  {
   "cell_type": "code",
   "execution_count": 40,
   "metadata": {},
   "outputs": [
    {
     "data": {
      "text/plain": [
       "Poly            30078\n",
       "unknown_tech    23460\n",
       "Mono            20214\n",
       "crystalline      2461\n",
       "Mono + a-Si       575\n",
       "CIGS               42\n",
       "a-Si               27\n",
       "multiple            2\n",
       "Name: tech_1, dtype: int64"
      ]
     },
     "execution_count": 40,
     "metadata": {},
     "output_type": "execute_result"
    }
   ],
   "source": [
    "# examine the two categorical features \n",
    "train_set['tech_1'].value_counts()"
   ]
  },
  {
   "cell_type": "markdown",
   "metadata": {},
   "source": [
    "### Do some further data cleaning "
   ]
  },
  {
   "cell_type": "code",
   "execution_count": 41,
   "metadata": {},
   "outputs": [
    {
     "data": {
      "text/plain": [
       "0.0    76611\n",
       "1.0      248\n",
       "Name: tracking, dtype: int64"
      ]
     },
     "execution_count": 41,
     "metadata": {},
     "output_type": "execute_result"
    }
   ],
   "source": [
    "train_set['tracking'].value_counts()"
   ]
  },
  {
   "cell_type": "code",
   "execution_count": 42,
   "metadata": {},
   "outputs": [],
   "source": [
    "# most of the inatllations have no tracking feature so we will not keep this feature for downstream analysis\n",
    "cat_attribes = ['tech_1']"
   ]
  },
  {
   "cell_type": "markdown",
   "metadata": {},
   "source": [
    "### Define transformation pipelines"
   ]
  },
  {
   "cell_type": "code",
   "execution_count": 34,
   "metadata": {},
   "outputs": [],
   "source": [
    "# for missing numerical data we will apply the median using SimpleImputer\n",
    "# pipeline for processing numerical data \n",
    "num_pipeline = Pipeline([\n",
    "        ('imputer', SimpleImputer(strategy=\"median\")),\n",
    "        ('std_scaler', StandardScaler()),\n",
    "    ])"
   ]
  },
  {
   "cell_type": "code",
   "execution_count": 44,
   "metadata": {},
   "outputs": [],
   "source": [
    "full_pipeline = ColumnTransformer([\n",
    "        (\"num\", num_pipeline, num_attribs),\n",
    "        # without cat variables  \n",
    "        (\"cat\", OneHotEncoder(), cat_attribs),\n",
    "    ])"
   ]
  },
  {
   "cell_type": "code",
   "execution_count": 91,
   "metadata": {},
   "outputs": [],
   "source": [
    "# transform the training set \n",
    "X_train_tr = full_pipeline.fit_transform(train_set)\n",
    "# get the labels for the training set \n",
    "y_train = train_set['reported_annual_energy_prod']"
   ]
  },
  {
   "cell_type": "code",
   "execution_count": 92,
   "metadata": {},
   "outputs": [],
   "source": [
    "# transform the test \n",
    "X_test = test_set[num_attribs + cat_attribs]\n",
    "y_test = test_set['reported_annual_energy_prod'].copy()\n",
    "X_test_tr = full_pipeline.transform(X_test)"
   ]
  },
  {
   "cell_type": "markdown",
   "metadata": {},
   "source": [
    "### Baseline model performance "
   ]
  },
  {
   "cell_type": "code",
   "execution_count": 91,
   "metadata": {},
   "outputs": [
    {
     "data": {
      "text/plain": [
       "0.8701808994965667"
      ]
     },
     "execution_count": 91,
     "metadata": {},
     "output_type": "execute_result"
    }
   ],
   "source": [
    "# R2 metric \n",
    "y_pred = test_set['annual_PV_prod']\n",
    "y_true = test_set['reported_annual_energy_prod']\n",
    "\n",
    "r2_score(y_true, y_pred)"
   ]
  },
  {
   "cell_type": "code",
   "execution_count": 127,
   "metadata": {},
   "outputs": [
    {
     "data": {
      "text/plain": [
       "1865.3331654792764"
      ]
     },
     "execution_count": 127,
     "metadata": {},
     "output_type": "execute_result"
    }
   ],
   "source": [
    "# get rmse using the baseline  \n",
    "base_mse_test = mean_squared_error(test_set['reported_annual_energy_prod'], test_set['annual_PV_prod'])\n",
    "base_rmse_test = np.sqrt(base_mse_test)\n",
    "base_rmse_test"
   ]
  },
  {
   "cell_type": "code",
   "execution_count": 93,
   "metadata": {
    "scrolled": true
   },
   "outputs": [
    {
     "data": {
      "text/plain": [
       "249.95464417422306"
      ]
     },
     "execution_count": 93,
     "metadata": {},
     "output_type": "execute_result"
    }
   ],
   "source": [
    "base_rmse_test*0.134"
   ]
  },
  {
   "cell_type": "code",
   "execution_count": 107,
   "metadata": {},
   "outputs": [
    {
     "data": {
      "text/plain": [
       "109.12121186800002"
      ]
     },
     "execution_count": 107,
     "metadata": {},
     "output_type": "execute_result"
    }
   ],
   "source": [
    "# dollar value \n",
    "abs_residuals = np.abs(np.array(y_true) - np.array(y_pred))\n",
    "# avg can rate per kilowat/hour is $.134\n",
    "residuals_dollars = abs_residuals * 0.134\n",
    "np.median(residuals_dollars)\n",
    "# this will be our reference point for how much saving we can generate using other more compexe models "
   ]
  },
  {
   "cell_type": "markdown",
   "metadata": {},
   "source": [
    "### Linear Regression Model "
   ]
  },
  {
   "cell_type": "code",
   "execution_count": 108,
   "metadata": {},
   "outputs": [
    {
     "data": {
      "text/plain": [
       "LinearRegression(copy_X=True, fit_intercept=True, n_jobs=None,\n",
       "         normalize=False)"
      ]
     },
     "execution_count": 108,
     "metadata": {},
     "output_type": "execute_result"
    }
   ],
   "source": [
    "lin_reg = LinearRegression()\n",
    "lin_reg.fit(X_train_tr, y_train)"
   ]
  },
  {
   "cell_type": "code",
   "execution_count": 110,
   "metadata": {},
   "outputs": [
    {
     "data": {
      "text/plain": [
       "1406.5656314733562"
      ]
     },
     "execution_count": 110,
     "metadata": {},
     "output_type": "execute_result"
    }
   ],
   "source": [
    "# Examine the linear model performance \n",
    "test_set_pred_lin = lin_reg.predict(X_test_tr)\n",
    "lin_mse_test = mean_squared_error(y_test, test_set_pred_lin)\n",
    "lin_rmse_test = np.sqrt(lin_mse_test)\n",
    "# get rmse using the linear regression model   \n",
    "lin_rmse_test "
   ]
  },
  {
   "cell_type": "code",
   "execution_count": 94,
   "metadata": {},
   "outputs": [
    {
     "data": {
      "text/plain": [
       "190.31638868248604"
      ]
     },
     "execution_count": 94,
     "metadata": {},
     "output_type": "execute_result"
    }
   ],
   "source": [
    "lin_rmse_test*0.134"
   ]
  },
  {
   "cell_type": "code",
   "execution_count": 115,
   "metadata": {},
   "outputs": [
    {
     "data": {
      "text/plain": [
       "60.25322033764584"
      ]
     },
     "execution_count": 115,
     "metadata": {},
     "output_type": "execute_result"
    }
   ],
   "source": [
    "#linear model dollar value \n",
    "abs_residuals_lin = np.abs(np.array(test_set['reported_annual_energy_prod']) - np.array(test_set_pred_lin))\n",
    "# avg ontario rate per kilowatt hour is $0.134\n",
    "residuals_dollars_lin = abs_residuals_lin * 0.134\n",
    "np.median(residuals_dollars_lin)"
   ]
  },
  {
   "cell_type": "code",
   "execution_count": 114,
   "metadata": {},
   "outputs": [
    {
     "data": {
      "text/plain": [
       "0.9261848044515588"
      ]
     },
     "execution_count": 114,
     "metadata": {},
     "output_type": "execute_result"
    }
   ],
   "source": [
    "r2_score(y_test, test_set_pred_lin)"
   ]
  },
  {
   "cell_type": "markdown",
   "metadata": {},
   "source": [
    "### Random Forest Regression  "
   ]
  },
  {
   "cell_type": "markdown",
   "metadata": {},
   "source": [
    "#### Grid Search and hyperparameter tuning "
   ]
  },
  {
   "cell_type": "code",
   "execution_count": 117,
   "metadata": {},
   "outputs": [],
   "source": [
    "param_grid = [\n",
    "    # try 9 (3×3) combinations of hyperparameters\n",
    "    {'n_estimators': [10, 100, 200], 'max_features': [2, 3, 4]}\n",
    "  ]\n",
    "\n",
    "forest_reg = RandomForestRegressor(random_state=42)"
   ]
  },
  {
   "cell_type": "code",
   "execution_count": 118,
   "metadata": {},
   "outputs": [
    {
     "data": {
      "text/plain": [
       "GridSearchCV(cv=5, error_score='raise-deprecating',\n",
       "       estimator=RandomForestRegressor(bootstrap=True, criterion='mse', max_depth=None,\n",
       "           max_features='auto', max_leaf_nodes=None,\n",
       "           min_impurity_decrease=0.0, min_impurity_split=None,\n",
       "           min_samples_leaf=1, min_samples_split=2,\n",
       "           min_weight_fraction_leaf=0.0, n_estimators='warn', n_jobs=None,\n",
       "           oob_score=False, random_state=42, verbose=0, warm_start=False),\n",
       "       fit_params=None, iid='warn', n_jobs=None,\n",
       "       param_grid=[{'max_features': [2, 3, 4], 'n_estimators': [10, 100, 200]}],\n",
       "       pre_dispatch='2*n_jobs', refit=True, return_train_score=True,\n",
       "       scoring='neg_mean_squared_error', verbose=0)"
      ]
     },
     "execution_count": 118,
     "metadata": {},
     "output_type": "execute_result"
    }
   ],
   "source": [
    "grid_search = GridSearchCV(forest_reg, param_grid, cv=5,\n",
    "                           scoring='neg_mean_squared_error', return_train_score=True)\n",
    "\n",
    "grid_search.fit(X_train_tr, y_train)"
   ]
  },
  {
   "cell_type": "code",
   "execution_count": 121,
   "metadata": {},
   "outputs": [],
   "source": [
    "feature_importances_rf = grid_search.best_estimator_.feature_importances_"
   ]
  },
  {
   "cell_type": "code",
   "execution_count": 122,
   "metadata": {},
   "outputs": [
    {
     "data": {
      "text/plain": [
       "array([8.78326079e-01, 3.79556759e-03, 4.39463263e-02, 4.13381621e-03,\n",
       "       2.36333125e-02, 1.05980180e-02, 4.80680526e-03, 4.27826808e-03,\n",
       "       1.13089499e-05, 1.94144320e-03, 2.32327114e-05, 3.23902977e-04,\n",
       "       1.00510972e-06, 3.22795734e-03, 9.20803278e-08, 2.08770846e-02,\n",
       "       3.38896610e-05, 4.18905288e-05])"
      ]
     },
     "execution_count": 122,
     "metadata": {},
     "output_type": "execute_result"
    }
   ],
   "source": [
    "feature_importances_rf"
   ]
  },
  {
   "cell_type": "code",
   "execution_count": 125,
   "metadata": {},
   "outputs": [],
   "source": [
    "cat_encoder = full_pipeline.named_transformers_[\"cat\"]\n",
    "cat_one_hot_attribs = list(cat_encoder.categories_[0])\n",
    "attributes = num_attribs + cat_one_hot_attribs\n",
    "feature_importances_rf_sorted = sorted(zip(feature_importances_rf, attributes), reverse=True)"
   ]
  },
  {
   "cell_type": "code",
   "execution_count": 126,
   "metadata": {
    "scrolled": true
   },
   "outputs": [
    {
     "data": {
      "text/plain": [
       "[(0.8783260788320855, 'size_kw'),\n",
       " (0.04394632632713284, 'tilt_difference'),\n",
       " (0.023633312542622305, 'DNI'),\n",
       " (0.020877084558666, 'unknown_tech'),\n",
       " (0.010598018032037162, 'GHI'),\n",
       " (0.004806805262099367, 'Temperature'),\n",
       " (0.004278268084379397, 'Wind Speed'),\n",
       " (0.004133816214481891, 'DHI'),\n",
       " (0.0037955675919797314, 'azimuth1'),\n",
       " (0.003227957336331494, 'crystalline'),\n",
       " (0.0019414431999164432, 'Mono'),\n",
       " (0.00032390297712928714, 'Poly'),\n",
       " (2.3232711440484816e-05, 'Mono + a-Si'),\n",
       " (1.1308949860356635e-05, 'CIGS'),\n",
       " (1.0051097238700173e-06, 'a-Si'),\n",
       " (9.208032783006543e-08, 'multiple')]"
      ]
     },
     "execution_count": 126,
     "metadata": {},
     "output_type": "execute_result"
    }
   ],
   "source": [
    "feature_importances_rf_sorted"
   ]
  },
  {
   "cell_type": "markdown",
   "metadata": {},
   "source": [
    "Since 'unknown_tech' is one of the levels for the categorical variable tech_1 that is not well defined we will retrain the models by only using numerical variables"
   ]
  },
  {
   "cell_type": "markdown",
   "metadata": {},
   "source": [
    "## Further feature selection & retrain  "
   ]
  },
  {
   "cell_type": "markdown",
   "metadata": {},
   "source": [
    "### Removing categorical variables from the model and retraining "
   ]
  },
  {
   "cell_type": "code",
   "execution_count": 35,
   "metadata": {},
   "outputs": [],
   "source": [
    "# for missing numerical data we will apply the median using SimpleImputer\n",
    "# pipeline for processing numerical data \n",
    "num_pipeline = Pipeline([\n",
    "        ('imputer', SimpleImputer(strategy=\"median\")),\n",
    "        ('std_scaler', StandardScaler()),\n",
    "    ])"
   ]
  },
  {
   "cell_type": "code",
   "execution_count": 36,
   "metadata": {},
   "outputs": [],
   "source": [
    "# exclude categorical variables from the model \n",
    "full_pipeline = ColumnTransformer([\n",
    "        (\"num\", num_pipeline, num_attribs),\n",
    "        # without cat variables  \n",
    "        #(\"cat\", OneHotEncoder(), cat_attribs),\n",
    "    ])"
   ]
  },
  {
   "cell_type": "code",
   "execution_count": 37,
   "metadata": {},
   "outputs": [],
   "source": [
    "# transform the training set \n",
    "X_train_tr = full_pipeline.fit_transform(train_set)\n",
    "# get the labels for the training set \n",
    "y_train = train_set['reported_annual_energy_prod']"
   ]
  },
  {
   "cell_type": "code",
   "execution_count": 38,
   "metadata": {},
   "outputs": [],
   "source": [
    "# transform the test \n",
    "X_test = test_set[num_attribs + cat_attribs]\n",
    "y_test = test_set['reported_annual_energy_prod'].copy()\n",
    "X_test_tr = full_pipeline.transform(X_test)"
   ]
  },
  {
   "cell_type": "code",
   "execution_count": 1,
   "metadata": {},
   "outputs": [],
   "source": [
    "# save both the training and test sets:\n",
    "#filename = 'X_train_tr.savib'\n",
    "#pickle.dump(X_train_tr, open(filename, 'wb'))\n",
    "\n",
    "#filename = 'y_train.savib'\n",
    "#pickle.dump(y_train, open(filename, 'wb'))\n",
    "\n",
    "#filename = 'X_test_tr.savib'\n",
    "#pickle.dump(X_test_tr, open(filename, 'wb'))\n",
    "\n",
    "#filename = 'y_test.savib'\n",
    "#pickle.dump(y_test, open(filename, 'wb'))"
   ]
  },
  {
   "cell_type": "markdown",
   "metadata": {},
   "source": [
    "## Linear Regression Model "
   ]
  },
  {
   "cell_type": "code",
   "execution_count": 98,
   "metadata": {},
   "outputs": [
    {
     "data": {
      "text/plain": [
       "LinearRegression(copy_X=True, fit_intercept=True, n_jobs=None,\n",
       "         normalize=False)"
      ]
     },
     "execution_count": 98,
     "metadata": {},
     "output_type": "execute_result"
    }
   ],
   "source": [
    "lin_reg = LinearRegression()\n",
    "lin_reg.fit(X_train_tr, y_train)"
   ]
  },
  {
   "cell_type": "markdown",
   "metadata": {},
   "source": [
    "### RMSE"
   ]
  },
  {
   "cell_type": "code",
   "execution_count": 99,
   "metadata": {},
   "outputs": [
    {
     "data": {
      "text/plain": [
       "1420.2715573319852"
      ]
     },
     "execution_count": 99,
     "metadata": {},
     "output_type": "execute_result"
    }
   ],
   "source": [
    "# Examine the linear model performance \n",
    "test_set_pred_lin = lin_reg.predict(X_test_tr)\n",
    "lin_mse_test = mean_squared_error(y_test, test_set_pred_lin)\n",
    "lin_rmse_test = np.sqrt(lin_mse_test)\n",
    "# get rmse using the linear regression model   \n",
    "lin_rmse_test "
   ]
  },
  {
   "cell_type": "code",
   "execution_count": 100,
   "metadata": {},
   "outputs": [
    {
     "data": {
      "text/plain": [
       "190.31638868248604"
      ]
     },
     "execution_count": 100,
     "metadata": {},
     "output_type": "execute_result"
    }
   ],
   "source": [
    "lin_rmse_test*0.134"
   ]
  },
  {
   "cell_type": "markdown",
   "metadata": {},
   "source": [
    "### R2"
   ]
  },
  {
   "cell_type": "code",
   "execution_count": 97,
   "metadata": {},
   "outputs": [
    {
     "data": {
      "text/plain": [
       "0.9247392483675102"
      ]
     },
     "execution_count": 97,
     "metadata": {},
     "output_type": "execute_result"
    }
   ],
   "source": [
    "r2_score(y_test, test_set_pred_lin)"
   ]
  },
  {
   "cell_type": "markdown",
   "metadata": {},
   "source": [
    "### Dollar value"
   ]
  },
  {
   "cell_type": "code",
   "execution_count": 130,
   "metadata": {},
   "outputs": [
    {
     "data": {
      "text/plain": [
       "65.92884955471476"
      ]
     },
     "execution_count": 130,
     "metadata": {},
     "output_type": "execute_result"
    }
   ],
   "source": [
    "#linear model dollar value \n",
    "abs_residuals_lin = np.abs(np.array(test_set['reported_annual_energy_prod']) - np.array(test_set_pred_lin))\n",
    "# avg ontario rate per kilowatt hour is $0.134\n",
    "residuals_dollars_lin = abs_residuals_lin * 0.134\n",
    "np.median(residuals_dollars_lin)"
   ]
  },
  {
   "cell_type": "markdown",
   "metadata": {},
   "source": [
    "## Random Forest Regression  "
   ]
  },
  {
   "cell_type": "markdown",
   "metadata": {},
   "source": [
    "Grid Search and hyperparameter tuning "
   ]
  },
  {
   "cell_type": "code",
   "execution_count": 50,
   "metadata": {},
   "outputs": [],
   "source": [
    "param_grid = [\n",
    "    # try 9 (3×3) combinations of hyperparameters\n",
    "    {'n_estimators': [10, 100, 200], 'max_features': [2, 3, 4]}\n",
    "  ]\n",
    "\n",
    "forest_reg = RandomForestRegressor(random_state=42)"
   ]
  },
  {
   "cell_type": "code",
   "execution_count": 51,
   "metadata": {},
   "outputs": [
    {
     "data": {
      "text/plain": [
       "GridSearchCV(cv=5, error_score='raise-deprecating',\n",
       "       estimator=RandomForestRegressor(bootstrap=True, criterion='mse', max_depth=None,\n",
       "           max_features='auto', max_leaf_nodes=None,\n",
       "           min_impurity_decrease=0.0, min_impurity_split=None,\n",
       "           min_samples_leaf=1, min_samples_split=2,\n",
       "           min_weight_fraction_leaf=0.0, n_estimators='warn', n_jobs=None,\n",
       "           oob_score=False, random_state=42, verbose=0, warm_start=False),\n",
       "       fit_params=None, iid='warn', n_jobs=None,\n",
       "       param_grid=[{'n_estimators': [10, 100, 200], 'max_features': [2, 3, 4]}],\n",
       "       pre_dispatch='2*n_jobs', refit=True, return_train_score=True,\n",
       "       scoring='neg_mean_squared_error', verbose=0)"
      ]
     },
     "execution_count": 51,
     "metadata": {},
     "output_type": "execute_result"
    }
   ],
   "source": [
    "grid_search = GridSearchCV(forest_reg, param_grid, cv=5,\n",
    "                           scoring='neg_mean_squared_error', return_train_score=True)\n",
    "\n",
    "grid_search.fit(X_train_tr, y_train)"
   ]
  },
  {
   "cell_type": "code",
   "execution_count": 55,
   "metadata": {},
   "outputs": [],
   "source": [
    "feature_importances_rf = grid_search.best_estimator_.feature_importances_"
   ]
  },
  {
   "cell_type": "code",
   "execution_count": 56,
   "metadata": {},
   "outputs": [
    {
     "data": {
      "text/plain": [
       "array([0.87744905, 0.00267352, 0.09195018, 0.00451233, 0.00314039,\n",
       "       0.00182859, 0.01358847, 0.00485747])"
      ]
     },
     "execution_count": 56,
     "metadata": {},
     "output_type": "execute_result"
    }
   ],
   "source": [
    "feature_importances_rf"
   ]
  },
  {
   "cell_type": "code",
   "execution_count": 57,
   "metadata": {},
   "outputs": [],
   "source": [
    "feature_importance = pd.DataFrame({\n",
    "    #'feature': attributes,\n",
    "    #'importance': grid_search.best_estimator_.feature_importances_[0:len(attributes)]\n",
    "    'feature': num_attribs,\n",
    "    'importance': grid_search.best_estimator_.feature_importances_\n",
    "})"
   ]
  },
  {
   "cell_type": "code",
   "execution_count": 170,
   "metadata": {},
   "outputs": [
    {
     "data": {
      "image/png": "[encoded data removed]",
      "text/plain": [
       "<Figure size 504x720 with 1 Axes>"
      ]
     },
     "metadata": {},
     "output_type": "display_data"
    }
   ],
   "source": [
    "feature_importance.sort_values(\"importance\", inplace=True, ascending=False)\n",
    "\n",
    "plt.figure(figsize=(7,10))\n",
    "sns.barplot(x=feature_importance.importance, y=feature_importance.feature, orient='h')\n",
    "plt.title(\"Random Forest Feature Importance\", size=15)\n",
    "sns.set_style(\"white\")\n",
    "sns.despine(offset=10, trim=False);\n",
    "#save_fig(\"RF_Feature_Importance\")\n",
    "#plt.show()"
   ]
  },
  {
   "cell_type": "code",
   "execution_count": 59,
   "metadata": {},
   "outputs": [],
   "source": [
    "final_model_rf = grid_search.best_estimator_\n",
    "\n",
    "test_set_predictions_rf = final_model_rf.predict(X_test_tr)"
   ]
  },
  {
   "cell_type": "markdown",
   "metadata": {},
   "source": [
    "### RMSE"
   ]
  },
  {
   "cell_type": "code",
   "execution_count": 60,
   "metadata": {},
   "outputs": [
    {
     "data": {
      "text/plain": [
       "1311.4528567995355"
      ]
     },
     "execution_count": 60,
     "metadata": {},
     "output_type": "execute_result"
    }
   ],
   "source": [
    "final_mse_rf = mean_squared_error(y_test, test_set_predictions_rf)\n",
    "final_rmse_rf = np.sqrt(final_mse_rf)\n",
    "final_rmse_rf"
   ]
  },
  {
   "cell_type": "code",
   "execution_count": 71,
   "metadata": {},
   "outputs": [
    {
     "data": {
      "text/plain": [
       "175.73468281113776"
      ]
     },
     "execution_count": 71,
     "metadata": {},
     "output_type": "execute_result"
    }
   ],
   "source": [
    "final_rmse_rf*0.134"
   ]
  },
  {
   "cell_type": "markdown",
   "metadata": {},
   "source": [
    "### R2"
   ]
  },
  {
   "cell_type": "code",
   "execution_count": 70,
   "metadata": {},
   "outputs": [
    {
     "data": {
      "text/plain": [
       "0.9358301330853965"
      ]
     },
     "execution_count": 70,
     "metadata": {},
     "output_type": "execute_result"
    }
   ],
   "source": [
    "r2_score(y_test, test_set_predictions_rf)"
   ]
  },
  {
   "cell_type": "markdown",
   "metadata": {},
   "source": [
    "### Dollar Value"
   ]
  },
  {
   "cell_type": "code",
   "execution_count": 129,
   "metadata": {},
   "outputs": [
    {
     "data": {
      "text/plain": [
       "40.743504000000065"
      ]
     },
     "execution_count": 129,
     "metadata": {},
     "output_type": "execute_result"
    }
   ],
   "source": [
    "abs_residuals_rf = np.abs(np.array(test_set['reported_annual_energy_prod']) - np.array(test_set_predictions_rf))\n",
    "# avg can rate per kilowatt hour is $.134\n",
    "residuals_dollars_rf = abs_residuals_rf * 0.134\n",
    "np.median(residuals_dollars_rf)\n"
   ]
  },
  {
   "cell_type": "markdown",
   "metadata": {},
   "source": [
    "## Gradient Boosting Regression "
   ]
  },
  {
   "cell_type": "code",
   "execution_count": 63,
   "metadata": {},
   "outputs": [],
   "source": [
    "param_grid_gbrt = [\n",
    "    # try 12 (4x3) combinations of hyperparameters\n",
    "    {'n_estimators': [10, 100, 200, 300], 'learning_rate': [0.1, 0.2, 0.3], 'max_features': [2, 3, 4]}\n",
    "]\n",
    "\n",
    "gbrt = GradientBoostingRegressor(random_state=42)"
   ]
  },
  {
   "cell_type": "code",
   "execution_count": 64,
   "metadata": {},
   "outputs": [],
   "source": [
    "grid_search_gbrt = GridSearchCV(gbrt, param_grid_gbrt, cv=5,\n",
    "                           scoring='neg_mean_squared_error', return_train_score=True)\n",
    "\n",
    "grid_search_gbrt.fit(X_train_tr, y_train)\n",
    "\n",
    "feature_importances_gbrt = grid_search_gbrt.best_estimator_.feature_importances_"
   ]
  },
  {
   "cell_type": "code",
   "execution_count": 72,
   "metadata": {},
   "outputs": [],
   "source": [
    "final_model_gbrt  = grid_search_gbrt.best_estimator_\n",
    "\n",
    "test_set_predictions_gbrt = final_model_gbrt.predict(X_test_tr)"
   ]
  },
  {
   "cell_type": "markdown",
   "metadata": {},
   "source": [
    "### RMSE"
   ]
  },
  {
   "cell_type": "code",
   "execution_count": 73,
   "metadata": {},
   "outputs": [
    {
     "data": {
      "text/plain": [
       "1249.2762993430233"
      ]
     },
     "execution_count": 73,
     "metadata": {},
     "output_type": "execute_result"
    }
   ],
   "source": [
    "final_mse_gbrt = mean_squared_error(y_test, test_set_predictions_gbrt)\n",
    "final_rmse_gbrt = np.sqrt(final_mse_gbrt)\n",
    "final_rmse_gbrt"
   ]
  },
  {
   "cell_type": "code",
   "execution_count": 101,
   "metadata": {},
   "outputs": [
    {
     "data": {
      "text/plain": [
       "167.40302411196512"
      ]
     },
     "execution_count": 101,
     "metadata": {},
     "output_type": "execute_result"
    }
   ],
   "source": [
    "final_rmse_gbrt*0.134"
   ]
  },
  {
   "cell_type": "markdown",
   "metadata": {},
   "source": [
    "### R2"
   ]
  },
  {
   "cell_type": "code",
   "execution_count": 74,
   "metadata": {},
   "outputs": [
    {
     "data": {
      "text/plain": [
       "0.9417705385732612"
      ]
     },
     "execution_count": 74,
     "metadata": {},
     "output_type": "execute_result"
    }
   ],
   "source": [
    "r2_score(y_test, test_set_predictions_gbrt)"
   ]
  },
  {
   "cell_type": "markdown",
   "metadata": {},
   "source": [
    "### Dollar value  "
   ]
  },
  {
   "cell_type": "code",
   "execution_count": 123,
   "metadata": {},
   "outputs": [
    {
     "data": {
      "text/plain": [
       "43.01404329241572"
      ]
     },
     "execution_count": 123,
     "metadata": {},
     "output_type": "execute_result"
    }
   ],
   "source": [
    "abs_residuals_gbrt = np.abs(np.array(test_set['reported_annual_energy_prod']) - np.array(test_set_predictions_gbrt))\n",
    "# avg us rate per kilowatt hour is $.1024\n",
    "residuals_dollars_gbrt = abs_residuals_gbrt * 0.134\n",
    "np.median(residuals_dollars_gbrt)"
   ]
  },
  {
   "cell_type": "markdown",
   "metadata": {},
   "source": [
    "## XGBoost"
   ]
  },
  {
   "cell_type": "code",
   "execution_count": 39,
   "metadata": {},
   "outputs": [],
   "source": [
    "import xgboost as xgb\n",
    "from xgboost import XGBRegressor"
   ]
  },
  {
   "cell_type": "code",
   "execution_count": 40,
   "metadata": {},
   "outputs": [],
   "source": [
    "def timer(start_time=None):\n",
    "    if not start_time:\n",
    "        start_time = datetime.now()\n",
    "        return start_time\n",
    "    elif start_time:\n",
    "        thour, temp_sec = divmod((datetime.now() - start_time).total_seconds(), 3600)\n",
    "        tmin, tsec = divmod(temp_sec, 60)\n",
    "        print('\\n Time taken: %i hours %i minutes and %s seconds.' % (thour, tmin, round(tsec, 2)))"
   ]
  },
  {
   "cell_type": "code",
   "execution_count": 110,
   "metadata": {},
   "outputs": [],
   "source": [
    "params_grid_xgb = {\n",
    "        #'min_child_weight': [1, 5, 10],\n",
    "        #'gamma': [0.5, 1, 1.5, 2, 5],\n",
    "        #'subsample': [0.6, 0.8, 1.0],\n",
    "        #'colsample_bytree': [0.3, 0.6, 0.8],\n",
    "        #'max_depth': [2, 3, 4],\n",
    "        #'n_estimators': [100, 200, 300, 400],\n",
    "        #'learning_rate': [0.01, 0.05, 0.1]\n",
    "        'min_child_weight': [1, 2],\n",
    "        #'gamma': [0.5, 1],\n",
    "        #'subsample': [0.6, 0.8],\n",
    "        #'colsample_bytree': [0.3, 0.6],\n",
    "        'max_depth': [3, 4],\n",
    "        'n_estimators': [300, 400],\n",
    "        'learning_rate': [0.02, 0.05, 0.1]\n",
    "        }"
   ]
  },
  {
   "cell_type": "code",
   "execution_count": 111,
   "metadata": {},
   "outputs": [],
   "source": [
    "xgb = XGBRegressor(objective='reg:linear', seed=42)"
   ]
  },
  {
   "cell_type": "code",
   "execution_count": 112,
   "metadata": {},
   "outputs": [],
   "source": [
    "grid_search_xgb = GridSearchCV(xgb, params_grid_xgb, cv=5,\n",
    "                           scoring='neg_mean_squared_error', return_train_score=True)"
   ]
  },
  {
   "cell_type": "code",
   "execution_count": 113,
   "metadata": {},
   "outputs": [],
   "source": [
    "# look for the parameters you can hypertune \n",
    "# grid_search_xgb.estimator.get_params().keys()"
   ]
  },
  {
   "cell_type": "code",
   "execution_count": 114,
   "metadata": {},
   "outputs": [
    {
     "name": "stdout",
     "output_type": "stream",
     "text": [
      "\n",
      " Time taken: 0 hours 11 minutes and 10.99 seconds.\n"
     ]
    }
   ],
   "source": [
    "from datetime import datetime\n",
    "start_time = timer(None) # timing starts from this point for \"start_time\" variable\n",
    "grid_search_xgb.fit(X_train_tr, y_train)\n",
    "timer(start_time) # timing ends here for \"start_time\" variable"
   ]
  },
  {
   "cell_type": "code",
   "execution_count": 116,
   "metadata": {},
   "outputs": [],
   "source": [
    "feature_importances_xgb = grid_search_xgb.best_estimator_.feature_importances_\n",
    "\n",
    "final_model_xgb = grid_search_xgb.best_estimator_"
   ]
  },
  {
   "cell_type": "code",
   "execution_count": 117,
   "metadata": {},
   "outputs": [
    {
     "data": {
      "text/plain": [
       "XGBRegressor(base_score=0.5, booster='gbtree', colsample_bylevel=1,\n",
       "       colsample_bytree=1, gamma=0, learning_rate=0.05, max_delta_step=0,\n",
       "       max_depth=3, min_child_weight=1, missing=None, n_estimators=400,\n",
       "       n_jobs=1, nthread=None, objective='reg:linear', random_state=0,\n",
       "       reg_alpha=0, reg_lambda=1, scale_pos_weight=1, seed=42, silent=True,\n",
       "       subsample=1)"
      ]
     },
     "execution_count": 117,
     "metadata": {},
     "output_type": "execute_result"
    }
   ],
   "source": [
    "final_model_xgb"
   ]
  },
  {
   "cell_type": "code",
   "execution_count": 118,
   "metadata": {},
   "outputs": [
    {
     "data": {
      "text/plain": [
       "1150.0530619211152"
      ]
     },
     "execution_count": 118,
     "metadata": {},
     "output_type": "execute_result"
    }
   ],
   "source": [
    "test_set_predictions_xgb = final_model_xgb.predict(X_test_tr)\n",
    "\n",
    "final_mse_xgb = mean_squared_error(y_test, test_set_predictions_xgb)\n",
    "final_rmse_xgb = np.sqrt(final_mse_xgb)\n",
    "final_rmse_xgb"
   ]
  },
  {
   "cell_type": "code",
   "execution_count": 121,
   "metadata": {},
   "outputs": [
    {
     "data": {
      "text/plain": [
       "154.10711029742944"
      ]
     },
     "execution_count": 121,
     "metadata": {},
     "output_type": "execute_result"
    }
   ],
   "source": [
    "final_rmse_xgb*0.134"
   ]
  },
  {
   "cell_type": "code",
   "execution_count": 125,
   "metadata": {},
   "outputs": [
    {
     "data": {
      "text/plain": [
       "0.9506529121153624"
      ]
     },
     "execution_count": 125,
     "metadata": {},
     "output_type": "execute_result"
    }
   ],
   "source": [
    "r2_score(y_test, test_set_predictions_xgb)"
   ]
  },
  {
   "cell_type": "code",
   "execution_count": 126,
   "metadata": {},
   "outputs": [
    {
     "data": {
      "text/plain": [
       "42.2559054687501"
      ]
     },
     "execution_count": 126,
     "metadata": {},
     "output_type": "execute_result"
    }
   ],
   "source": [
    "abs_residuals_xgb = np.abs(np.array(y_test) - np.array(test_set_predictions_xgb))\n",
    "# avg us rate per kilowatt hour is $.1024\n",
    "residuals_dollars_xgb = abs_residuals_xgb * 0.134\n",
    "np.median(residuals_dollars_xgb)"
   ]
  },
  {
   "cell_type": "markdown",
   "metadata": {},
   "source": [
    "# Modeling the cost "
   ]
  },
  {
   "cell_type": "code",
   "execution_count": 131,
   "metadata": {},
   "outputs": [
    {
     "data": {
      "text/plain": [
       "True     92805\n",
       "False     3192\n",
       "dtype: int64"
      ]
     },
     "execution_count": 131,
     "metadata": {},
     "output_type": "execute_result"
    }
   ],
   "source": [
    "# conversion rate between the US to Canadian \n",
    "converison_rate = 1.33\n",
    "data_cost = df_opv_resid_us_north_cleaned_east.loc[df_opv_resid_us_north_cleaned_east['size_kw'] < 50, ['cost', 'size_kw']]\n",
    "\n",
    "data_cost['cost_can'] = data_cost['cost']*converison_rate\n",
    "\n",
    "cost_kw = (data_cost['cost']*converison_rate)/data_cost['size_kw']\n",
    "\n",
    "cost_kw_std = cost_kw.std()\n",
    "cost_kw_mean = cost_kw.mean()\n",
    "mask_outliers_cost = np.abs((cost_kw_mean - cost_kw)/cost_kw_std) <= 2\n",
    "mask_outliers_cost.value_counts()"
   ]
  },
  {
   "cell_type": "code",
   "execution_count": 132,
   "metadata": {},
   "outputs": [
    {
     "data": {
      "image/png": "[encoded data removed]",
      "text/plain": [
       "<Figure size 720x504 with 1 Axes>"
      ]
     },
     "metadata": {},
     "output_type": "display_data"
    }
   ],
   "source": [
    "plt.figure(figsize=((10,7)))\n",
    "plt.scatter(data_cost['size_kw'], data_cost['cost'], alpha=0.6, c = 'blue')\n",
    "plt.scatter(data_cost['size_kw'][mask_outliers_cost], data_cost['cost'][mask_outliers_cost], alpha=0.6, c = 'red')\n",
    "#sns.regplot(df_opv_resid_us_north['reported_annual_energy_prod'], df_opv_resid_us_north['annual_PV_prod'], ci=99.73)\n",
    "plt.xlim(0,100)\n",
    "plt.ylim(0,900000)\n",
    "plt.ylabel(\"cost $US\")\n",
    "plt.xlabel(\"size kW\")\n",
    "plt.title(\"Cost estimates model\", size=15)\n",
    "sns.set_style(\"white\")\n",
    "sns.despine(offset=10, trim=False)\n",
    "#save_fig(\"energy_predicted_vs_measured\")\n",
    "#plt.show()"
   ]
  },
  {
   "cell_type": "code",
   "execution_count": 133,
   "metadata": {},
   "outputs": [
    {
     "data": {
      "text/plain": [
       "LinearRegression(copy_X=True, fit_intercept=True, n_jobs=None,\n",
       "         normalize=False)"
      ]
     },
     "execution_count": 133,
     "metadata": {},
     "output_type": "execute_result"
    }
   ],
   "source": [
    "train_set_cost, test_set_cost = train_test_split(data_cost[mask_outliers_cost], test_size=0.2, random_state=42)\n",
    "\n",
    "train_set_cost_prepared = array(train_set_cost['size_kw']).reshape(-1,1)\n",
    "train_set_labels_cost = train_set_cost['cost_can']\n",
    "\n",
    "X_test_cost = array(test_set_cost['size_kw']).reshape(-1,1)\n",
    "y_test_cost = test_set_cost['cost_can'].copy()\n",
    "y_test_cost = y_test_cost\n",
    "\n",
    "# use a simple linear regression model  \n",
    "lin_reg_cost = LinearRegression()\n",
    "lin_reg_cost.fit(train_set_cost_prepared, train_set_labels_cost)"
   ]
  },
  {
   "cell_type": "code",
   "execution_count": 134,
   "metadata": {},
   "outputs": [
    {
     "data": {
      "text/plain": [
       "0.7304447068345781"
      ]
     },
     "execution_count": 134,
     "metadata": {},
     "output_type": "execute_result"
    }
   ],
   "source": [
    "test_set_predictions = lin_reg_cost.predict(X_test_cost)\n",
    "lin_mse_test_cost = mean_squared_error(y_test_cost, test_set_predictions)\n",
    "lin_rmse_test_cost = np.sqrt(lin_mse_test_cost)\n",
    "r2_score(y_test_cost, test_set_predictions)\n"
   ]
  },
  {
   "cell_type": "code",
   "execution_count": 135,
   "metadata": {},
   "outputs": [],
   "source": [
    "stdev = np.sqrt(sum((y_test_cost - test_set_predictions)**2) / (len(test_set_predictions) - 2))"
   ]
  },
  {
   "cell_type": "code",
   "execution_count": 136,
   "metadata": {},
   "outputs": [
    {
     "data": {
      "text/plain": [
       "11462.002315678359"
      ]
     },
     "execution_count": 136,
     "metadata": {},
     "output_type": "execute_result"
    }
   ],
   "source": [
    "# estimated stadard deviation \n",
    "stdev "
   ]
  },
  {
   "cell_type": "code",
   "execution_count": 137,
   "metadata": {},
   "outputs": [
    {
     "data": {
      "text/plain": [
       "6650.858298340845"
      ]
     },
     "execution_count": 137,
     "metadata": {},
     "output_type": "execute_result"
    }
   ],
   "source": [
    "abs_residuals_cost = np.abs(np.array(y_test_cost) - np.array(test_set_predictions))\n",
    "# avg us rate per kilowatt hour is $.1024\n",
    "residuals_dollars_cost = abs_residuals_cost\n",
    "np.median(residuals_dollars_cost)"
   ]
  },
  {
   "cell_type": "markdown",
   "metadata": {},
   "source": [
    "Associated error in terms of the cost "
   ]
  },
  {
   "cell_type": "code",
   "execution_count": 147,
   "metadata": {},
   "outputs": [
    {
     "data": {
      "text/plain": [
       "43530.740986241246"
      ]
     },
     "execution_count": 147,
     "metadata": {},
     "output_type": "execute_result"
    }
   ],
   "source": [
    "np.median(np.array(test_set_predictions))"
   ]
  },
  {
   "cell_type": "code",
   "execution_count": 148,
   "metadata": {},
   "outputs": [
    {
     "data": {
      "text/plain": [
       "0.15278532245621504"
      ]
     },
     "execution_count": 148,
     "metadata": {},
     "output_type": "execute_result"
    }
   ],
   "source": [
    "np.median(residuals_dollars_cost)/np.median(np.array(test_set_predictions))"
   ]
  },
  {
   "cell_type": "markdown",
   "metadata": {},
   "source": [
    "### Save the best model and transformation piplines for production and the webapp"
   ]
  },
  {
   "cell_type": "code",
   "execution_count": 171,
   "metadata": {},
   "outputs": [],
   "source": [
    "#filename = 'finalized_lin_model_cost.sav'\n",
    "#pickle.dump(lin_reg_cost, open(filename, 'wb'))\n",
    "\n",
    "#filename = 'finalized_gbrt_model.sav'\n",
    "#pickle.dump(grid_search_gbrt, open(filename, 'wb'))\n",
    "\n",
    "#filename = 'full_pipeline.sav'\n",
    "#pickle.dump(full_pipeline, open(filename, 'wb'))\n",
    "\n",
    "#check that my projection are in line with the data \n",
    "#train_set[train_set['size_kw'] == 4]['reported_annual_energy_prod'].mean()"
   ]
  },
  {
   "cell_type": "code",
   "execution_count": null,
   "metadata": {},
   "outputs": [],
   "source": []
  }
 ],
 "metadata": {
  "kernelspec": {
   "display_name": "Python 3",
   "language": "python",
   "name": "python3"
  },
  "language_info": {
   "codemirror_mode": {
    "name": "ipython",
    "version": 3
   },
   "file_extension": ".py",
   "mimetype": "text/x-python",
   "name": "python",
   "nbconvert_exporter": "python",
   "pygments_lexer": "ipython3",
   "version": "3.5.5"
  }
 },
 "nbformat": 4,
 "nbformat_minor": 2
}
